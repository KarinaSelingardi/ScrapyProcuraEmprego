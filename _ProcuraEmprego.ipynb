{
  "nbformat": 4,
  "nbformat_minor": 0,
  "metadata": {
    "colab": {
      "provenance": [],
      "mount_file_id": "https://github.com/KarinaSelingardi/ScrapyProcuraEmprego/blob/master/ProcuraEmprego.ipynb",
      "authorship_tag": "ABX9TyPm8Nr8Ej85fQjuaTXOj7ZH",
      "include_colab_link": true
    },
    "kernelspec": {
      "name": "python3",
      "display_name": "Python 3"
    },
    "language_info": {
      "name": "python"
    }
  },
  "cells": [
    {
      "cell_type": "markdown",
      "metadata": {
        "id": "view-in-github",
        "colab_type": "text"
      },
      "source": [
        "<a href=\"https://colab.research.google.com/github/KarinaSelingardi/ScrapyProcuraEmprego/blob/master/_ProcuraEmprego.ipynb\" target=\"_parent\"><img src=\"https://colab.research.google.com/assets/colab-badge.svg\" alt=\"Open In Colab\"/></a>"
      ]
    },
    {
      "cell_type": "code",
      "source": [
        "import pandas as pd\n",
        "\n",
        "# Ler arquivo CSV\n",
        "df = pd.read_csv('Catho02.csv')"
      ],
      "metadata": {
        "id": "CuchJVD2rVwB"
      },
      "execution_count": 3,
      "outputs": []
    },
    {
      "cell_type": "code",
      "source": [
        "import pandas as pd\n",
        "\n",
        "\n",
        "dados = [\"São Paulo\", \"Porto Alegre\", \"Fortaleza\", \"Londrina\", \"Uberlândia\", \"Rio de Janeiro\", \"Campinas\", \"Sorocaba\", \"Florianópolis\", \"Maringá\", \"Curitiba\", \"Goiânia\", \"Auxiliar Administrativo\", \"Recepcionista\", \"Assistente Administrativo\", \"Auxiliar de Produção\", \"Advogado\", \"Vendedor\", \"Engenheiro Civil\", \"Programador\", \"Atendente\", \"Operador de Caixa\", \"Enfermeiro\", \"Analista Financeiro\", \"Administração\", \"Financeira\", \"Saúde\", \"Engenharia\", \"Comercial e Vendas\", \"Telemarketing\", \"Industrial\", \"Educação\", \"Jurídica\", \"Informática\", \"Suprimentos\", \"Artes, Arquitetura e Design\", \"Vagas de Home Office\"]\n",
        "\n",
        "# Criar um DataFrame\n",
        "df = pd.DataFrame(dados, columns=['texto'])\n",
        "\n",
        "# Aplicar codificação one-hot\n",
        "df_encoded = pd.get_dummies(df)\n",
        "\n",
        "# Exibir o DataFrame codificado\n",
        "print(df_encoded)\n"
      ],
      "metadata": {
        "colab": {
          "base_uri": "https://localhost:8080/"
        },
        "id": "ospYjBLPtRgv",
        "outputId": "cd170bf1-b903-4914-d3e8-68a585950ae9"
      },
      "execution_count": 4,
      "outputs": [
        {
          "output_type": "stream",
          "name": "stdout",
          "text": [
            "    texto_Administração  texto_Advogado  texto_Analista Financeiro  \\\n",
            "0                 False           False                      False   \n",
            "1                 False           False                      False   \n",
            "2                 False           False                      False   \n",
            "3                 False           False                      False   \n",
            "4                 False           False                      False   \n",
            "5                 False           False                      False   \n",
            "6                 False           False                      False   \n",
            "7                 False           False                      False   \n",
            "8                 False           False                      False   \n",
            "9                 False           False                      False   \n",
            "10                False           False                      False   \n",
            "11                False           False                      False   \n",
            "12                False           False                      False   \n",
            "13                False           False                      False   \n",
            "14                False           False                      False   \n",
            "15                False           False                      False   \n",
            "16                False            True                      False   \n",
            "17                False           False                      False   \n",
            "18                False           False                      False   \n",
            "19                False           False                      False   \n",
            "20                False           False                      False   \n",
            "21                False           False                      False   \n",
            "22                False           False                      False   \n",
            "23                False           False                       True   \n",
            "24                 True           False                      False   \n",
            "25                False           False                      False   \n",
            "26                False           False                      False   \n",
            "27                False           False                      False   \n",
            "28                False           False                      False   \n",
            "29                False           False                      False   \n",
            "30                False           False                      False   \n",
            "31                False           False                      False   \n",
            "32                False           False                      False   \n",
            "33                False           False                      False   \n",
            "34                False           False                      False   \n",
            "35                False           False                      False   \n",
            "36                False           False                      False   \n",
            "\n",
            "    texto_Artes, Arquitetura e Design  texto_Assistente Administrativo  \\\n",
            "0                               False                            False   \n",
            "1                               False                            False   \n",
            "2                               False                            False   \n",
            "3                               False                            False   \n",
            "4                               False                            False   \n",
            "5                               False                            False   \n",
            "6                               False                            False   \n",
            "7                               False                            False   \n",
            "8                               False                            False   \n",
            "9                               False                            False   \n",
            "10                              False                            False   \n",
            "11                              False                            False   \n",
            "12                              False                            False   \n",
            "13                              False                            False   \n",
            "14                              False                             True   \n",
            "15                              False                            False   \n",
            "16                              False                            False   \n",
            "17                              False                            False   \n",
            "18                              False                            False   \n",
            "19                              False                            False   \n",
            "20                              False                            False   \n",
            "21                              False                            False   \n",
            "22                              False                            False   \n",
            "23                              False                            False   \n",
            "24                              False                            False   \n",
            "25                              False                            False   \n",
            "26                              False                            False   \n",
            "27                              False                            False   \n",
            "28                              False                            False   \n",
            "29                              False                            False   \n",
            "30                              False                            False   \n",
            "31                              False                            False   \n",
            "32                              False                            False   \n",
            "33                              False                            False   \n",
            "34                              False                            False   \n",
            "35                               True                            False   \n",
            "36                              False                            False   \n",
            "\n",
            "    texto_Atendente  texto_Auxiliar Administrativo  \\\n",
            "0             False                          False   \n",
            "1             False                          False   \n",
            "2             False                          False   \n",
            "3             False                          False   \n",
            "4             False                          False   \n",
            "5             False                          False   \n",
            "6             False                          False   \n",
            "7             False                          False   \n",
            "8             False                          False   \n",
            "9             False                          False   \n",
            "10            False                          False   \n",
            "11            False                          False   \n",
            "12            False                           True   \n",
            "13            False                          False   \n",
            "14            False                          False   \n",
            "15            False                          False   \n",
            "16            False                          False   \n",
            "17            False                          False   \n",
            "18            False                          False   \n",
            "19            False                          False   \n",
            "20             True                          False   \n",
            "21            False                          False   \n",
            "22            False                          False   \n",
            "23            False                          False   \n",
            "24            False                          False   \n",
            "25            False                          False   \n",
            "26            False                          False   \n",
            "27            False                          False   \n",
            "28            False                          False   \n",
            "29            False                          False   \n",
            "30            False                          False   \n",
            "31            False                          False   \n",
            "32            False                          False   \n",
            "33            False                          False   \n",
            "34            False                          False   \n",
            "35            False                          False   \n",
            "36            False                          False   \n",
            "\n",
            "    texto_Auxiliar de Produção  texto_Campinas  texto_Comercial e Vendas  ...  \\\n",
            "0                        False           False                     False  ...   \n",
            "1                        False           False                     False  ...   \n",
            "2                        False           False                     False  ...   \n",
            "3                        False           False                     False  ...   \n",
            "4                        False           False                     False  ...   \n",
            "5                        False           False                     False  ...   \n",
            "6                        False            True                     False  ...   \n",
            "7                        False           False                     False  ...   \n",
            "8                        False           False                     False  ...   \n",
            "9                        False           False                     False  ...   \n",
            "10                       False           False                     False  ...   \n",
            "11                       False           False                     False  ...   \n",
            "12                       False           False                     False  ...   \n",
            "13                       False           False                     False  ...   \n",
            "14                       False           False                     False  ...   \n",
            "15                        True           False                     False  ...   \n",
            "16                       False           False                     False  ...   \n",
            "17                       False           False                     False  ...   \n",
            "18                       False           False                     False  ...   \n",
            "19                       False           False                     False  ...   \n",
            "20                       False           False                     False  ...   \n",
            "21                       False           False                     False  ...   \n",
            "22                       False           False                     False  ...   \n",
            "23                       False           False                     False  ...   \n",
            "24                       False           False                     False  ...   \n",
            "25                       False           False                     False  ...   \n",
            "26                       False           False                     False  ...   \n",
            "27                       False           False                     False  ...   \n",
            "28                       False           False                      True  ...   \n",
            "29                       False           False                     False  ...   \n",
            "30                       False           False                     False  ...   \n",
            "31                       False           False                     False  ...   \n",
            "32                       False           False                     False  ...   \n",
            "33                       False           False                     False  ...   \n",
            "34                       False           False                     False  ...   \n",
            "35                       False           False                     False  ...   \n",
            "36                       False           False                     False  ...   \n",
            "\n",
            "    texto_Recepcionista  texto_Rio de Janeiro  texto_Saúde  texto_Sorocaba  \\\n",
            "0                 False                 False        False           False   \n",
            "1                 False                 False        False           False   \n",
            "2                 False                 False        False           False   \n",
            "3                 False                 False        False           False   \n",
            "4                 False                 False        False           False   \n",
            "5                 False                  True        False           False   \n",
            "6                 False                 False        False           False   \n",
            "7                 False                 False        False            True   \n",
            "8                 False                 False        False           False   \n",
            "9                 False                 False        False           False   \n",
            "10                False                 False        False           False   \n",
            "11                False                 False        False           False   \n",
            "12                False                 False        False           False   \n",
            "13                 True                 False        False           False   \n",
            "14                False                 False        False           False   \n",
            "15                False                 False        False           False   \n",
            "16                False                 False        False           False   \n",
            "17                False                 False        False           False   \n",
            "18                False                 False        False           False   \n",
            "19                False                 False        False           False   \n",
            "20                False                 False        False           False   \n",
            "21                False                 False        False           False   \n",
            "22                False                 False        False           False   \n",
            "23                False                 False        False           False   \n",
            "24                False                 False        False           False   \n",
            "25                False                 False        False           False   \n",
            "26                False                 False         True           False   \n",
            "27                False                 False        False           False   \n",
            "28                False                 False        False           False   \n",
            "29                False                 False        False           False   \n",
            "30                False                 False        False           False   \n",
            "31                False                 False        False           False   \n",
            "32                False                 False        False           False   \n",
            "33                False                 False        False           False   \n",
            "34                False                 False        False           False   \n",
            "35                False                 False        False           False   \n",
            "36                False                 False        False           False   \n",
            "\n",
            "    texto_Suprimentos  texto_São Paulo  texto_Telemarketing  texto_Uberlândia  \\\n",
            "0               False             True                False             False   \n",
            "1               False            False                False             False   \n",
            "2               False            False                False             False   \n",
            "3               False            False                False             False   \n",
            "4               False            False                False              True   \n",
            "5               False            False                False             False   \n",
            "6               False            False                False             False   \n",
            "7               False            False                False             False   \n",
            "8               False            False                False             False   \n",
            "9               False            False                False             False   \n",
            "10              False            False                False             False   \n",
            "11              False            False                False             False   \n",
            "12              False            False                False             False   \n",
            "13              False            False                False             False   \n",
            "14              False            False                False             False   \n",
            "15              False            False                False             False   \n",
            "16              False            False                False             False   \n",
            "17              False            False                False             False   \n",
            "18              False            False                False             False   \n",
            "19              False            False                False             False   \n",
            "20              False            False                False             False   \n",
            "21              False            False                False             False   \n",
            "22              False            False                False             False   \n",
            "23              False            False                False             False   \n",
            "24              False            False                False             False   \n",
            "25              False            False                False             False   \n",
            "26              False            False                False             False   \n",
            "27              False            False                False             False   \n",
            "28              False            False                False             False   \n",
            "29              False            False                 True             False   \n",
            "30              False            False                False             False   \n",
            "31              False            False                False             False   \n",
            "32              False            False                False             False   \n",
            "33              False            False                False             False   \n",
            "34               True            False                False             False   \n",
            "35              False            False                False             False   \n",
            "36              False            False                False             False   \n",
            "\n",
            "    texto_Vagas de Home Office  texto_Vendedor  \n",
            "0                        False           False  \n",
            "1                        False           False  \n",
            "2                        False           False  \n",
            "3                        False           False  \n",
            "4                        False           False  \n",
            "5                        False           False  \n",
            "6                        False           False  \n",
            "7                        False           False  \n",
            "8                        False           False  \n",
            "9                        False           False  \n",
            "10                       False           False  \n",
            "11                       False           False  \n",
            "12                       False           False  \n",
            "13                       False           False  \n",
            "14                       False           False  \n",
            "15                       False           False  \n",
            "16                       False           False  \n",
            "17                       False            True  \n",
            "18                       False           False  \n",
            "19                       False           False  \n",
            "20                       False           False  \n",
            "21                       False           False  \n",
            "22                       False           False  \n",
            "23                       False           False  \n",
            "24                       False           False  \n",
            "25                       False           False  \n",
            "26                       False           False  \n",
            "27                       False           False  \n",
            "28                       False           False  \n",
            "29                       False           False  \n",
            "30                       False           False  \n",
            "31                       False           False  \n",
            "32                       False           False  \n",
            "33                       False           False  \n",
            "34                       False           False  \n",
            "35                       False           False  \n",
            "36                        True           False  \n",
            "\n",
            "[37 rows x 37 columns]\n"
          ]
        }
      ]
    },
    {
      "cell_type": "code",
      "source": [
        "\n",
        "\n",
        "\n",
        "caminho_novo_arquivo = 'dados_codificados.csv'\n",
        "\n",
        "# Salvo os dados codificados no novo arquivo CSV\n",
        "df_encoded.to_csv(caminho_novo_arquivo, index=False)\n"
      ],
      "metadata": {
        "id": "HbJcSRr8-I8X"
      },
      "execution_count": 5,
      "outputs": []
    },
    {
      "cell_type": "code",
      "source": [
        "import pandas as pd\n",
        "import numpy as np\n",
        "from sklearn.model_selection import train_test_split\n",
        "from tensorflow.keras.models import Sequential\n",
        "from tensorflow.keras.layers import Dense\n",
        "\n",
        "# Carregar dados CSV usando Pandas\n",
        "data = pd.read_csv('/content/dados_codificados.csv')\n",
        "\n",
        "# Pré-processamento dos dados\n",
        "X = data.drop('texto_Administração', axis=1)\n",
        "y = data['texto_Administração']\n",
        "\n",
        "# Dividir os dados em conjuntos de treinamento e teste\n",
        "X_train, X_test, y_train, y_test = train_test_split(X, y, test_size=0.2, random_state=42)\n",
        "\n",
        "# Construir modelo de rede neural com Keras\n",
        "model = Sequential([\n",
        "    Dense(64, activation='relu', input_shape=(X_train.shape[1],)),\n",
        "    Dense(64, activation='relu'),\n",
        "    Dense(1, activation='sigmoid')\n",
        "])\n",
        "\n",
        "# Compilar o modelo\n",
        "model.compile(optimizer='adam', loss='binary_crossentropy', metrics=['accuracy'])\n",
        "\n",
        "# Treinar o modelo\n",
        "model.fit(X_train, y_train, epochs=10, batch_size=32, validation_data=(X_test, y_test))\n",
        "\n",
        "# Avaliar o modelo\n",
        "loss, accuracy = model.evaluate(X_test, y_test)\n",
        "print('Loss:', loss)\n",
        "print('Accuracy:', accuracy)\n"
      ],
      "metadata": {
        "colab": {
          "base_uri": "https://localhost:8080/"
        },
        "id": "N50kX9wsB5h4",
        "outputId": "cd7d1f59-a9ed-41a2-bfbc-304527aa9e8e"
      },
      "execution_count": 6,
      "outputs": [
        {
          "output_type": "stream",
          "name": "stdout",
          "text": [
            "Epoch 1/10\n",
            "1/1 [==============================] - 2s 2s/step - loss: 0.6605 - accuracy: 0.7931 - val_loss: 0.6350 - val_accuracy: 1.0000\n",
            "Epoch 2/10\n",
            "1/1 [==============================] - 0s 74ms/step - loss: 0.6442 - accuracy: 0.8276 - val_loss: 0.6202 - val_accuracy: 1.0000\n",
            "Epoch 3/10\n",
            "1/1 [==============================] - 0s 77ms/step - loss: 0.6281 - accuracy: 0.8966 - val_loss: 0.6060 - val_accuracy: 1.0000\n",
            "Epoch 4/10\n",
            "1/1 [==============================] - 0s 64ms/step - loss: 0.6122 - accuracy: 0.9310 - val_loss: 0.5920 - val_accuracy: 1.0000\n",
            "Epoch 5/10\n",
            "1/1 [==============================] - 0s 68ms/step - loss: 0.5966 - accuracy: 0.9655 - val_loss: 0.5778 - val_accuracy: 1.0000\n",
            "Epoch 6/10\n",
            "1/1 [==============================] - 0s 75ms/step - loss: 0.5813 - accuracy: 0.9655 - val_loss: 0.5641 - val_accuracy: 1.0000\n",
            "Epoch 7/10\n",
            "1/1 [==============================] - 0s 51ms/step - loss: 0.5661 - accuracy: 0.9655 - val_loss: 0.5506 - val_accuracy: 1.0000\n",
            "Epoch 8/10\n",
            "1/1 [==============================] - 0s 72ms/step - loss: 0.5511 - accuracy: 0.9655 - val_loss: 0.5373 - val_accuracy: 1.0000\n",
            "Epoch 9/10\n",
            "1/1 [==============================] - 0s 65ms/step - loss: 0.5364 - accuracy: 0.9655 - val_loss: 0.5242 - val_accuracy: 1.0000\n",
            "Epoch 10/10\n",
            "1/1 [==============================] - 0s 63ms/step - loss: 0.5218 - accuracy: 0.9655 - val_loss: 0.5112 - val_accuracy: 1.0000\n",
            "1/1 [==============================] - 0s 43ms/step - loss: 0.5112 - accuracy: 1.0000\n",
            "Loss: 0.5112336874008179\n",
            "Accuracy: 1.0\n"
          ]
        }
      ]
    },
    {
      "cell_type": "code",
      "source": [
        "import pandas as pd\n",
        "from sklearn.model_selection import train_test_split\n",
        "from tensorflow.keras.models import Sequential\n",
        "from tensorflow.keras.layers import Dense\n",
        "\n",
        "# Carregar dados CSV usando Pandas\n",
        "data = pd.read_csv('/content/dados_codificados.csv')\n",
        "\n",
        "# Pré-processamento dos dados\n",
        "X = data.drop('texto_Administração', axis=1)  # Remover apenas a coluna alvo\n",
        "y = data['texto_Administração']  # Coluna alvo\n",
        "\n",
        "# Adicionar as colunas desejadas\n",
        "X['texto_Vagas de Home Office'] = data['texto_Vagas de Home Office']\n",
        "X['texto_Sorocaba'] = data['texto_Sorocaba']\n",
        "X['texto_Administração'] = y  # Adicionar a coluna alvo de volta ao DataFrame X\n",
        "\n",
        "# Dividir os dados em conjuntos de treinamento e teste\n",
        "X_train, X_test, y_train, y_test = train_test_split(X, y, test_size=0.2, random_state=42)\n",
        "\n",
        "# Construir modelo de rede neural com Keras\n",
        "model = Sequential([\n",
        "    Dense(64, activation='relu', input_shape=(X_train.shape[1],)),\n",
        "    Dense(64, activation='relu'),\n",
        "    Dense(1, activation='sigmoid')\n",
        "])\n",
        "\n",
        "# Compilar o modelo\n",
        "model.compile(optimizer='adam', loss='binary_crossentropy', metrics=['accuracy'])\n",
        "\n",
        "# Treinar o modelo\n",
        "model.fit(X_train, y_train, epochs=10, batch_size=32, validation_data=(X_test, y_test))\n",
        "\n",
        "# Avaliar o modelo\n",
        "loss, accuracy = model.evaluate(X_test, y_test)\n",
        "print('Loss:', loss)\n",
        "print('Accuracy:', accuracy)\n"
      ],
      "metadata": {
        "colab": {
          "base_uri": "https://localhost:8080/"
        },
        "id": "IL0-tVyaE4wY",
        "outputId": "aaa8adf0-e529-401a-8ed8-05ed39f439ed"
      },
      "execution_count": 7,
      "outputs": [
        {
          "output_type": "stream",
          "name": "stdout",
          "text": [
            "Epoch 1/10\n",
            "1/1 [==============================] - 1s 1s/step - loss: 0.7028 - accuracy: 0.4138 - val_loss: 0.6641 - val_accuracy: 0.7500\n",
            "Epoch 2/10\n",
            "1/1 [==============================] - 0s 62ms/step - loss: 0.6863 - accuracy: 0.4828 - val_loss: 0.6485 - val_accuracy: 0.8750\n",
            "Epoch 3/10\n",
            "1/1 [==============================] - 0s 41ms/step - loss: 0.6701 - accuracy: 0.7931 - val_loss: 0.6335 - val_accuracy: 1.0000\n",
            "Epoch 4/10\n",
            "1/1 [==============================] - 0s 40ms/step - loss: 0.6542 - accuracy: 0.9310 - val_loss: 0.6189 - val_accuracy: 1.0000\n",
            "Epoch 5/10\n",
            "1/1 [==============================] - 0s 46ms/step - loss: 0.6387 - accuracy: 0.9655 - val_loss: 0.6042 - val_accuracy: 1.0000\n",
            "Epoch 6/10\n",
            "1/1 [==============================] - 0s 42ms/step - loss: 0.6233 - accuracy: 0.9655 - val_loss: 0.5896 - val_accuracy: 1.0000\n",
            "Epoch 7/10\n",
            "1/1 [==============================] - 0s 52ms/step - loss: 0.6083 - accuracy: 0.9655 - val_loss: 0.5753 - val_accuracy: 1.0000\n",
            "Epoch 8/10\n",
            "1/1 [==============================] - 0s 76ms/step - loss: 0.5936 - accuracy: 0.9655 - val_loss: 0.5612 - val_accuracy: 1.0000\n",
            "Epoch 9/10\n",
            "1/1 [==============================] - 0s 62ms/step - loss: 0.5793 - accuracy: 0.9655 - val_loss: 0.5472 - val_accuracy: 1.0000\n",
            "Epoch 10/10\n",
            "1/1 [==============================] - 0s 55ms/step - loss: 0.5652 - accuracy: 0.9655 - val_loss: 0.5334 - val_accuracy: 1.0000\n",
            "1/1 [==============================] - 0s 37ms/step - loss: 0.5334 - accuracy: 1.0000\n",
            "Loss: 0.5333527326583862\n",
            "Accuracy: 1.0\n"
          ]
        }
      ]
    },
    {
      "cell_type": "code",
      "source": [
        "# Gerar previsões\n",
        "predictions = model.predict(X_test)\n",
        "\n",
        "# Exibir algumas previsões e seus valores reais\n",
        "for i in range(min(10, len(predictions))):\n",
        "    print(\"Previsão:\", predictions[i])\n",
        "    print(\"Valor real:\", y_test.iloc[i])\n",
        "\n"
      ],
      "metadata": {
        "colab": {
          "base_uri": "https://localhost:8080/"
        },
        "id": "d6hkUETpGE1W",
        "outputId": "f6c9108b-b8f9-4d42-e042-ec76202f5e1f"
      },
      "execution_count": 8,
      "outputs": [
        {
          "output_type": "stream",
          "name": "stdout",
          "text": [
            "1/1 [==============================] - 0s 91ms/step\n",
            "Previsão: [0.43220234]\n",
            "Valor real: False\n",
            "Previsão: [0.3839358]\n",
            "Valor real: False\n",
            "Previsão: [0.4265344]\n",
            "Valor real: False\n",
            "Previsão: [0.425323]\n",
            "Valor real: False\n",
            "Previsão: [0.40101346]\n",
            "Valor real: False\n",
            "Previsão: [0.351243]\n",
            "Valor real: False\n",
            "Previsão: [0.43418276]\n",
            "Valor real: False\n",
            "Previsão: [0.44662848]\n",
            "Valor real: False\n"
          ]
        }
      ]
    },
    {
      "cell_type": "code",
      "source": [
        "import matplotlib.pyplot as plt\n",
        "\n",
        "# Exibir algumas previsões e seus valores reais\n",
        "num_samples = min(10, len(predictions))\n",
        "plt.figure(figsize=(10, 6))\n",
        "plt.plot(range(num_samples), predictions[:num_samples], label='Previsões', marker='o')\n",
        "plt.plot(range(num_samples), y_test.iloc[:num_samples], label='Valores reais', marker='x')\n",
        "plt.title('Previsões vs Valores reais')\n",
        "plt.xlabel('Amostras')\n",
        "plt.ylabel('Valor')\n",
        "plt.legend()\n",
        "plt.grid(True)\n",
        "plt.show()\n"
      ],
      "metadata": {
        "id": "OelsZkWNGXyV",
        "outputId": "ec415389-2d15-4344-e0b4-7c5d67079d39",
        "colab": {
          "base_uri": "https://localhost:8080/",
          "height": 564
        }
      },
      "execution_count": 9,
      "outputs": [
        {
          "output_type": "display_data",
          "data": {
            "text/plain": [
              "<Figure size 1000x600 with 1 Axes>"
            ],
            "image/png": "[encoded data removed]"
          },
          "metadata": {}
        }
      ]
    },
    {
      "cell_type": "code",
      "source": [
        "import matplotlib.pyplot as plt\n",
        "\n",
        "# Gerar previsões\n",
        "predictions = model.predict(X_test)\n",
        "\n",
        "# Exibir algumas previsões e seus valores reais\n",
        "num_samples = min(10, len(predictions))\n",
        "plt.figure(figsize=(10, 6))\n",
        "plt.plot(range(num_samples), predictions[:num_samples], label='Previsões', marker='o')\n",
        "plt.plot(range(num_samples), y_test.iloc[:num_samples], label='Valores reais', marker='x')\n",
        "plt.title('Previsões vs Valores reais')\n",
        "plt.xlabel('Amostras')\n",
        "plt.ylabel('Valor')\n",
        "plt.legend()\n",
        "plt.grid(True)\n",
        "plt.show()\n"
      ],
      "metadata": {
        "id": "a17k48Ic1WL6",
        "outputId": "10b00b7a-b60e-4163-e096-a1acace9bf96",
        "colab": {
          "base_uri": "https://localhost:8080/",
          "height": 581
        }
      },
      "execution_count": 10,
      "outputs": [
        {
          "output_type": "stream",
          "name": "stdout",
          "text": [
            "1/1 [==============================] - 0s 23ms/step\n"
          ]
        },
        {
          "output_type": "display_data",
          "data": {
            "text/plain": [
              "<Figure size 1000x600 with 1 Axes>"
            ],
            "image/png": "[encoded data removed]"
          },
          "metadata": {}
        }
      ]
    },
    {
      "cell_type": "code",
      "source": [
        "from tensorflow.keras.utils import plot_model\n",
        "\n",
        "# Visualizar a arquitetura da rede neural\n",
        "plot_model(model, to_file='model_plot.png', show_shapes=True, show_layer_names=True)\n"
      ],
      "metadata": {
        "id": "mj--Ngyn15n9",
        "outputId": "c304b3fa-3ef0-4893-e6c3-7e06d146a42a",
        "colab": {
          "base_uri": "https://localhost:8080/",
          "height": 422
        }
      },
      "execution_count": 11,
      "outputs": [
        {
          "output_type": "execute_result",
          "data": {
            "image/png": "[encoded data removed]",
            "text/plain": [
              "<IPython.core.display.Image object>"
            ]
          },
          "metadata": {},
          "execution_count": 11
        }
      ]
    },
    {
      "cell_type": "code",
      "source": [
        "!apt-get install openjdk-8-jdk-headless -qq > /dev/null"
      ],
      "metadata": {
        "id": "VYPmPfpmbCAq"
      },
      "execution_count": 12,
      "outputs": []
    },
    {
      "cell_type": "code",
      "source": [
        "!wget https://archive.apache.org/dist/spark/spark-3.1.2/spark-3.1.2-bin-hadoop3.2.tgz\n",
        "!tar -xf spark-3.1.2-bin-hadoop3.2.tgz"
      ],
      "metadata": {
        "id": "EQ4cUVvHbY80",
        "outputId": "63295850-2932-4068-a89c-f6f4cd9003a7",
        "colab": {
          "base_uri": "https://localhost:8080/"
        }
      },
      "execution_count": 13,
      "outputs": [
        {
          "output_type": "stream",
          "name": "stdout",
          "text": [
            "--2024-05-13 14:08:51--  https://archive.apache.org/dist/spark/spark-3.1.2/spark-3.1.2-bin-hadoop3.2.tgz\n",
            "Resolving archive.apache.org (archive.apache.org)... 65.108.204.189, 2a01:4f9:1a:a084::2\n",
            "Connecting to archive.apache.org (archive.apache.org)|65.108.204.189|:443... connected.\n",
            "HTTP request sent, awaiting response... 200 OK\n",
            "Length: 228834641 (218M) [application/x-gzip]\n",
            "Saving to: ‘spark-3.1.2-bin-hadoop3.2.tgz’\n",
            "\n",
            "spark-3.1.2-bin-had 100%[===================>] 218.23M  22.1MB/s    in 12s     \n",
            "\n",
            "2024-05-13 14:09:03 (18.3 MB/s) - ‘spark-3.1.2-bin-hadoop3.2.tgz’ saved [228834641/228834641]\n",
            "\n"
          ]
        }
      ]
    },
    {
      "cell_type": "code",
      "source": [
        "import os\n",
        "\n",
        "os.environ['JAVA_HOME'] = '/usr/lib/jvm/java-8-openjdk-amd64'\n",
        "os.environ['SPARK_HOME'] = '/content/spark-3.1.2-bin-hadoop3.2'"
      ],
      "metadata": {
        "id": "2_BGTC5icn59"
      },
      "execution_count": 14,
      "outputs": []
    },
    {
      "cell_type": "code",
      "source": [
        "!pip install findspark\n",
        "\n",
        "import findspark\n",
        "findspark.init('/content/spark-3.1.2-bin-hadoop3.2')"
      ],
      "metadata": {
        "id": "vhSi719mcuuK",
        "outputId": "721cb784-32cc-45bc-c39f-6fc509bc6db5",
        "colab": {
          "base_uri": "https://localhost:8080/"
        }
      },
      "execution_count": 15,
      "outputs": [
        {
          "output_type": "stream",
          "name": "stdout",
          "text": [
            "Collecting findspark\n",
            "  Downloading findspark-2.0.1-py2.py3-none-any.whl (4.4 kB)\n",
            "Installing collected packages: findspark\n",
            "Successfully installed findspark-2.0.1\n"
          ]
        }
      ]
    },
    {
      "cell_type": "code",
      "source": [
        "import pyspark.sql as spark\n",
        "\n",
        "spark = spark.SparkSession.builder.appName(\"TesteSpark\").getOrCreate()"
      ],
      "metadata": {
        "id": "eASGbrUAc1V3",
        "outputId": "30adcdd4-97ef-4007-fce7-13508cfcf21e",
        "colab": {
          "base_uri": "https://localhost:8080/"
        }
      },
      "execution_count": 16,
      "outputs": [
        {
          "output_type": "stream",
          "name": "stderr",
          "text": [
            "/usr/lib/python3.10/subprocess.py:1796: RuntimeWarning: os.fork() was called. os.fork() is incompatible with multithreaded code, and JAX is multithreaded, so this will likely lead to a deadlock.\n",
            "  self.pid = _posixsubprocess.fork_exec(\n"
          ]
        }
      ]
    },
    {
      "cell_type": "code",
      "source": [
        "from pyspark.sql import SparkSession\n",
        "spark = SparkSession.builder.master('local[*]').getOrCreate()"
      ],
      "metadata": {
        "id": "GGgXycCgdHfT"
      },
      "execution_count": 17,
      "outputs": []
    },
    {
      "cell_type": "code",
      "source": [
        "dataset = spark.read.csv('/content/dados_codificados.csv',inferSchema=True, header = True)"
      ],
      "metadata": {
        "id": "DL4gS9gsdOua"
      },
      "execution_count": 18,
      "outputs": []
    },
    {
      "cell_type": "code",
      "source": [
        "dataset.printSchema()"
      ],
      "metadata": {
        "id": "o-LhEhKBdd0_",
        "outputId": "5baff137-617d-4163-f526-febe55a9bc1f",
        "colab": {
          "base_uri": "https://localhost:8080/"
        }
      },
      "execution_count": 19,
      "outputs": [
        {
          "output_type": "stream",
          "name": "stdout",
          "text": [
            "root\n",
            " |-- texto_Administração: boolean (nullable = true)\n",
            " |-- texto_Advogado: boolean (nullable = true)\n",
            " |-- texto_Analista Financeiro: boolean (nullable = true)\n",
            " |-- texto_Artes, Arquitetura e Design: boolean (nullable = true)\n",
            " |-- texto_Assistente Administrativo: boolean (nullable = true)\n",
            " |-- texto_Atendente: boolean (nullable = true)\n",
            " |-- texto_Auxiliar Administrativo: boolean (nullable = true)\n",
            " |-- texto_Auxiliar de Produção: boolean (nullable = true)\n",
            " |-- texto_Campinas: boolean (nullable = true)\n",
            " |-- texto_Comercial e Vendas: boolean (nullable = true)\n",
            " |-- texto_Curitiba: boolean (nullable = true)\n",
            " |-- texto_Educação: boolean (nullable = true)\n",
            " |-- texto_Enfermeiro: boolean (nullable = true)\n",
            " |-- texto_Engenharia: boolean (nullable = true)\n",
            " |-- texto_Engenheiro Civil: boolean (nullable = true)\n",
            " |-- texto_Financeira: boolean (nullable = true)\n",
            " |-- texto_Florianópolis: boolean (nullable = true)\n",
            " |-- texto_Fortaleza: boolean (nullable = true)\n",
            " |-- texto_Goiânia: boolean (nullable = true)\n",
            " |-- texto_Industrial: boolean (nullable = true)\n",
            " |-- texto_Informática: boolean (nullable = true)\n",
            " |-- texto_Jurídica: boolean (nullable = true)\n",
            " |-- texto_Londrina: boolean (nullable = true)\n",
            " |-- texto_Maringá: boolean (nullable = true)\n",
            " |-- texto_Operador de Caixa: boolean (nullable = true)\n",
            " |-- texto_Porto Alegre: boolean (nullable = true)\n",
            " |-- texto_Programador: boolean (nullable = true)\n",
            " |-- texto_Recepcionista: boolean (nullable = true)\n",
            " |-- texto_Rio de Janeiro: boolean (nullable = true)\n",
            " |-- texto_Saúde: boolean (nullable = true)\n",
            " |-- texto_Sorocaba: boolean (nullable = true)\n",
            " |-- texto_Suprimentos: boolean (nullable = true)\n",
            " |-- texto_São Paulo: boolean (nullable = true)\n",
            " |-- texto_Telemarketing: boolean (nullable = true)\n",
            " |-- texto_Uberlândia: boolean (nullable = true)\n",
            " |-- texto_Vagas de Home Office: boolean (nullable = true)\n",
            " |-- texto_Vendedor: boolean (nullable = true)\n",
            "\n"
          ]
        }
      ]
    },
    {
      "cell_type": "code",
      "source": [
        "import pandas as pd\n",
        "from pyspark.sql import SparkSession\n",
        "from pyspark.ml.feature import VectorAssembler\n",
        "from pyspark.ml.clustering import KMeans\n",
        "import pyspark.sql.functions as F\n",
        "import google.generativeai as genai\n",
        "import re\n",
        "import textwrap\n",
        "from IPython.display import display, Markdown\n",
        "from google.colab import userdata\n",
        "\n",
        "\n",
        "# Configuração do Spark\n",
        "spark = SparkSession.builder.appName(\"JobBot\").getOrCreate()\n",
        "\n",
        "# Carregar os dados\n",
        "dataset = spark.read.csv('/content/dados_codificados.csv', inferSchema=True, header=True)\n",
        "\n",
        "# Criar vetor de features\n",
        "assembler = VectorAssembler(inputCols=[col for col in dataset.columns if col != 'texto_Administração'], outputCol=\"features\")\n",
        "dataset = assembler.transform(dataset)\n",
        "\n",
        "# Funções para o Chatbot\n",
        "def recommend_jobs(areas, cidades):\n",
        "  \"\"\"Recomenda vagas com base nas áreas e cidades fornecidas.\"\"\"\n",
        "  filtered_df = dataset\n",
        "  for area in areas:\n",
        "    filtered_df = filtered_df.filter(F.col(f\"texto_{area}\") == True)\n",
        "  for cidade in cidades:\n",
        "    filtered_df = filtered_df.filter(F.col(f\"texto_{cidade}\") == True)\n",
        "  if filtered_df.count() == 0:\n",
        "    return \"Desculpe, não encontrei nenhuma vaga com essas preferências.\"\n",
        "\n",
        "  kmeans = KMeans(featuresCol=\"features\", k=min(3, filtered_df.count()))\n",
        "  model = kmeans.fit(filtered_df)\n",
        "  transformed_df = model.transform(filtered_df)\n",
        "\n",
        "  recommendations = transformed_df.groupBy(\"prediction\").agg(F.first(\"features\").alias(\"features\"))\n",
        "  result = []\n",
        "  for row in recommendations.collect():\n",
        "    features = [col for col, value in zip(dataset.columns, row.features) if value == 1.0 and col != 'features']\n",
        "    result.append(', '.join(features))\n",
        "  return \"Encontrei estas vagas que podem te interessar:\\n\" + '\\n'.join(result)\n",
        "\n",
        "\n",
        "def get_user_preferences(user_input):\n",
        "  \"\"\"Extrai as preferências do usuário a partir da entrada de texto.\"\"\"\n",
        "  areas = []\n",
        "  cidades = []\n",
        "  area_match = re.findall(r\"Busco vagas em ([\\w\\s]+)\\.\", user_input)\n",
        "  cidade_match = re.findall(r\"Quero trabalhar em ([\\w\\s]+)\\.\", user_input)\n",
        "  areas.extend(area_match)\n",
        "  cidades.extend(cidade_match)\n",
        "  return areas, cidades\n",
        "\n",
        "# Configuração do Google Gemini\n",
        "\n",
        "api_key = userdata.get('SECRET_KEY')\n",
        "genai.configure(api_key=api_key)\n",
        "generation_config = {\n",
        "    \"candidate_count\": 1,\n",
        "    \"temperature\": 0.5,\n",
        "    \"top_p\": 1,\n",
        "}\n",
        "safety_settings = {\n",
        "    'HATE': 'BLOCK_NONE',\n",
        "    'HARASSMENT': 'BLOCK_NONE',\n",
        "    'SEXUAL': 'BLOCK_NONE',\n",
        "    'DANGEROUS': 'BLOCK_NONE'\n",
        "}\n",
        "model = genai.GenerativeModel(model_name='gemini-1.0-pro',\n",
        "                             generation_config=generation_config,\n",
        "                             safety_settings=safety_settings)\n",
        "\n",
        "# Função para formatar a resposta como Markdown\n",
        "def to_markdown(text):\n",
        "  text = text.replace('•', '  *')\n",
        "  return Markdown(textwrap.indent(text, '> ', predicate=lambda _: True))\n",
        "\n",
        "# Loop principal do chatbot\n",
        "chat = model.start_chat(history=[])\n",
        "print(\"JobBot: Olá! Sou o JobBot, posso te ajudar a encontrar uma vaga. \\\n",
        "       Conte-me sobre suas preferências de emprego. \\\n",
        "       Exemplos: 'Busco vagas em Administração.' ou 'Quero trabalhar em São Paulo.'\")\n",
        "\n",
        "while True:\n",
        "  try:\n",
        "    user_input = input(\"Você: \")\n",
        "    response = chat.send_message(user_input)\n",
        "    print(\"JobBot:\", response.text, '\\n')\n",
        "\n",
        "    areas, cidades = get_user_preferences(user_input)\n",
        "    if areas or cidades:\n",
        "      recommendations = recommend_jobs(areas, cidades)\n",
        "      print(\"JobBot:\", recommendations, '\\n')\n",
        "      chat.history.append(genai.ChatMessage(role=\"user\", content=recommendations)) # Adicionar recomendações ao histórico\n",
        "\n",
        "  except (KeyboardInterrupt, EOFError, SystemExit):\n",
        "    break\n",
        "\n",
        "# Imprimir histórico da conversa\n",
        "print(\"\\nHistórico da Conversa:\")\n",
        "for message in chat.history:\n",
        "  display(to_markdown(f'**{message.role}**: {message.parts[0].text}'))\n",
        "  print('-------------------------------------------')"
      ],
      "metadata": {
        "id": "VpEd67_lSg5O",
        "outputId": "d7100db4-3ca0-4276-938a-129663dae2da",
        "colab": {
          "base_uri": "https://localhost:8080/",
          "height": 1000
        }
      },
      "execution_count": 20,
      "outputs": [
        {
          "output_type": "stream",
          "name": "stdout",
          "text": [
            "JobBot: Olá! Sou o JobBot, posso te ajudar a encontrar uma vaga.        Conte-me sobre suas preferências de emprego.        Exemplos: 'Busco vagas em Administração.' ou 'Quero trabalhar em São Paulo.'\n",
            "Você: ola\n",
            "JobBot: Olá, como posso ajudá-lo hoje? \n",
            "\n",
            "Você: quero uma vaga de administração\n",
            "JobBot: **Vagas de Administração Disponíveis**\n",
            "\n",
            "**Empresas:**\n",
            "\n",
            "* **Empresa A:** Gerente de Administração\n",
            "* **Empresa B:** Assistente Administrativo\n",
            "* **Empresa C:** Secretária Executiva\n",
            "* **Empresa D:** Analista de Recursos Humanos\n",
            "\n",
            "**Requisitos Gerais:**\n",
            "\n",
            "* Graduação em Administração ou área relacionada\n",
            "* Experiência comprovada em funções administrativas\n",
            "* Fortes habilidades organizacionais e de gerenciamento de tempo\n",
            "* Excelentes habilidades de comunicação e interpessoais\n",
            "* Proficiência em software de escritório (Microsoft Office Suite, etc.)\n",
            "\n",
            "**Responsabilidades:**\n",
            "\n",
            "* Gerenciar operações administrativas diárias\n",
            "* Fornecer suporte administrativo a executivos e gerentes\n",
            "* Coordenar reuniões, agendar compromissos e gerenciar correspondências\n",
            "* Processar documentos, arquivar registros e manter bancos de dados\n",
            "* Fornecer suporte de RH, incluindo recrutamento, contratação e treinamento\n",
            "* Garantir a conformidade com as políticas e procedimentos da empresa\n",
            "\n",
            "**Como se Candidatar:**\n",
            "\n",
            "* Visite os sites das empresas listadas acima para obter mais informações e instruções de candidatura.\n",
            "* Prepare um currículo e uma carta de apresentação destacando suas habilidades e experiência relevantes.\n",
            "* Esteja preparado para fornecer referências e participar de entrevistas.\n",
            "\n",
            "**Dicas Adicionais:**\n",
            "\n",
            "* Pesquise as empresas e as vagas específicas para as quais você está se candidatando.\n",
            "* Adapte seu currículo e carta de apresentação para cada vaga.\n",
            "* Pratique suas habilidades de entrevista e prepare respostas para perguntas comuns.\n",
            "* Use redes sociais e plataformas de recrutamento para se conectar com recrutadores e empresas. \n",
            "\n",
            "\n",
            "Histórico da Conversa:\n"
          ]
        },
        {
          "output_type": "display_data",
          "data": {
            "text/plain": [
              "<IPython.core.display.Markdown object>"
            ],
            "text/markdown": "> **user**: ola"
          },
          "metadata": {}
        },
        {
          "output_type": "stream",
          "name": "stdout",
          "text": [
            "-------------------------------------------\n"
          ]
        },
        {
          "output_type": "display_data",
          "data": {
            "text/plain": [
              "<IPython.core.display.Markdown object>"
            ],
            "text/markdown": "> **model**: Olá, como posso ajudá-lo hoje?"
          },
          "metadata": {}
        },
        {
          "output_type": "stream",
          "name": "stdout",
          "text": [
            "-------------------------------------------\n"
          ]
        },
        {
          "output_type": "display_data",
          "data": {
            "text/plain": [
              "<IPython.core.display.Markdown object>"
            ],
            "text/markdown": "> **user**: quero uma vaga de administração"
          },
          "metadata": {}
        },
        {
          "output_type": "stream",
          "name": "stdout",
          "text": [
            "-------------------------------------------\n"
          ]
        },
        {
          "output_type": "display_data",
          "data": {
            "text/plain": [
              "<IPython.core.display.Markdown object>"
            ],
            "text/markdown": "> **model**: **Vagas de Administração Disponíveis**\n> \n> **Empresas:**\n> \n> * **Empresa A:** Gerente de Administração\n> * **Empresa B:** Assistente Administrativo\n> * **Empresa C:** Secretária Executiva\n> * **Empresa D:** Analista de Recursos Humanos\n> \n> **Requisitos Gerais:**\n> \n> * Graduação em Administração ou área relacionada\n> * Experiência comprovada em funções administrativas\n> * Fortes habilidades organizacionais e de gerenciamento de tempo\n> * Excelentes habilidades de comunicação e interpessoais\n> * Proficiência em software de escritório (Microsoft Office Suite, etc.)\n> \n> **Responsabilidades:**\n> \n> * Gerenciar operações administrativas diárias\n> * Fornecer suporte administrativo a executivos e gerentes\n> * Coordenar reuniões, agendar compromissos e gerenciar correspondências\n> * Processar documentos, arquivar registros e manter bancos de dados\n> * Fornecer suporte de RH, incluindo recrutamento, contratação e treinamento\n> * Garantir a conformidade com as políticas e procedimentos da empresa\n> \n> **Como se Candidatar:**\n> \n> * Visite os sites das empresas listadas acima para obter mais informações e instruções de candidatura.\n> * Prepare um currículo e uma carta de apresentação destacando suas habilidades e experiência relevantes.\n> * Esteja preparado para fornecer referências e participar de entrevistas.\n> \n> **Dicas Adicionais:**\n> \n> * Pesquise as empresas e as vagas específicas para as quais você está se candidatando.\n> * Adapte seu currículo e carta de apresentação para cada vaga.\n> * Pratique suas habilidades de entrevista e prepare respostas para perguntas comuns.\n> * Use redes sociais e plataformas de recrutamento para se conectar com recrutadores e empresas."
          },
          "metadata": {}
        },
        {
          "output_type": "stream",
          "name": "stdout",
          "text": [
            "-------------------------------------------\n"
          ]
        }
      ]
    }
  ]
}