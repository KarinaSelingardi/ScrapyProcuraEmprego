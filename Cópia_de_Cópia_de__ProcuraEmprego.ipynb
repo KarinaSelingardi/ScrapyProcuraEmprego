{
  "nbformat": 4,
  "nbformat_minor": 0,
  "metadata": {
    "colab": {
      "provenance": [],
      "mount_file_id": "https://github.com/KarinaSelingardi/ScrapyProcuraEmprego/blob/master/ProcuraEmprego.ipynb",
      "authorship_tag": "ABX9TyMPAAOmHAiMoSPaRTCgNbv3",
      "include_colab_link": true
    },
    "kernelspec": {
      "name": "python3",
      "display_name": "Python 3"
    },
    "language_info": {
      "name": "python"
    }
  },
  "cells": [
    {
      "cell_type": "markdown",
      "metadata": {
        "id": "view-in-github",
        "colab_type": "text"
      },
      "source": [
        "<a href=\"https://colab.research.google.com/github/KarinaSelingardi/ScrapyProcuraEmprego/blob/master/C%C3%B3pia_de_C%C3%B3pia_de__ProcuraEmprego.ipynb\" target=\"_parent\"><img src=\"https://colab.research.google.com/assets/colab-badge.svg\" alt=\"Open In Colab\"/></a>"
      ]
    },
    {
      "cell_type": "code",
      "source": [
        "import pandas as pd\n",
        "\n",
        "# Ler arquivo CSV\n",
        "df = pd.read_csv('Catho02.csv')"
      ],
      "metadata": {
        "id": "CuchJVD2rVwB"
      },
      "execution_count": 27,
      "outputs": []
    },
    {
      "cell_type": "code",
      "source": [
        "import pandas as pd\n",
        "\n",
        "\n",
        "dados = [\"São Paulo\", \"Porto Alegre\", \"Fortaleza\", \"Londrina\", \"Uberlândia\", \"Rio de Janeiro\", \"Campinas\", \"Sorocaba\", \"Florianópolis\", \"Maringá\", \"Curitiba\", \"Goiânia\", \"Auxiliar Administrativo\", \"Assistente Administrativo\", \"Administração\", \"Vagas de Home Office\"]\n",
        "\n",
        "# Criar um DataFrame\n",
        "df = pd.DataFrame(dados, columns=['texto'])\n",
        "\n",
        "# Aplicar codificação one-hot\n",
        "df_encoded = pd.get_dummies(df)\n",
        "\n",
        "# Exibir o DataFrame codificado\n",
        "print(df_encoded)\n"
      ],
      "metadata": {
        "colab": {
          "base_uri": "https://localhost:8080/"
        },
        "id": "ospYjBLPtRgv",
        "outputId": "312ff0df-b557-420f-e724-d66adf44899a"
      },
      "execution_count": 28,
      "outputs": [
        {
          "output_type": "stream",
          "name": "stdout",
          "text": [
            "    texto_Administração  texto_Assistente Administrativo  \\\n",
            "0                 False                            False   \n",
            "1                 False                            False   \n",
            "2                 False                            False   \n",
            "3                 False                            False   \n",
            "4                 False                            False   \n",
            "5                 False                            False   \n",
            "6                 False                            False   \n",
            "7                 False                            False   \n",
            "8                 False                            False   \n",
            "9                 False                            False   \n",
            "10                False                            False   \n",
            "11                False                            False   \n",
            "12                False                            False   \n",
            "13                False                             True   \n",
            "14                 True                            False   \n",
            "15                False                            False   \n",
            "\n",
            "    texto_Auxiliar Administrativo  texto_Campinas  texto_Curitiba  \\\n",
            "0                           False           False           False   \n",
            "1                           False           False           False   \n",
            "2                           False           False           False   \n",
            "3                           False           False           False   \n",
            "4                           False           False           False   \n",
            "5                           False           False           False   \n",
            "6                           False            True           False   \n",
            "7                           False           False           False   \n",
            "8                           False           False           False   \n",
            "9                           False           False           False   \n",
            "10                          False           False            True   \n",
            "11                          False           False           False   \n",
            "12                           True           False           False   \n",
            "13                          False           False           False   \n",
            "14                          False           False           False   \n",
            "15                          False           False           False   \n",
            "\n",
            "    texto_Florianópolis  texto_Fortaleza  texto_Goiânia  texto_Londrina  \\\n",
            "0                 False            False          False           False   \n",
            "1                 False            False          False           False   \n",
            "2                 False             True          False           False   \n",
            "3                 False            False          False            True   \n",
            "4                 False            False          False           False   \n",
            "5                 False            False          False           False   \n",
            "6                 False            False          False           False   \n",
            "7                 False            False          False           False   \n",
            "8                  True            False          False           False   \n",
            "9                 False            False          False           False   \n",
            "10                False            False          False           False   \n",
            "11                False            False           True           False   \n",
            "12                False            False          False           False   \n",
            "13                False            False          False           False   \n",
            "14                False            False          False           False   \n",
            "15                False            False          False           False   \n",
            "\n",
            "    texto_Maringá  texto_Porto Alegre  texto_Rio de Janeiro  texto_Sorocaba  \\\n",
            "0           False               False                 False           False   \n",
            "1           False                True                 False           False   \n",
            "2           False               False                 False           False   \n",
            "3           False               False                 False           False   \n",
            "4           False               False                 False           False   \n",
            "5           False               False                  True           False   \n",
            "6           False               False                 False           False   \n",
            "7           False               False                 False            True   \n",
            "8           False               False                 False           False   \n",
            "9            True               False                 False           False   \n",
            "10          False               False                 False           False   \n",
            "11          False               False                 False           False   \n",
            "12          False               False                 False           False   \n",
            "13          False               False                 False           False   \n",
            "14          False               False                 False           False   \n",
            "15          False               False                 False           False   \n",
            "\n",
            "    texto_São Paulo  texto_Uberlândia  texto_Vagas de Home Office  \n",
            "0              True             False                       False  \n",
            "1             False             False                       False  \n",
            "2             False             False                       False  \n",
            "3             False             False                       False  \n",
            "4             False              True                       False  \n",
            "5             False             False                       False  \n",
            "6             False             False                       False  \n",
            "7             False             False                       False  \n",
            "8             False             False                       False  \n",
            "9             False             False                       False  \n",
            "10            False             False                       False  \n",
            "11            False             False                       False  \n",
            "12            False             False                       False  \n",
            "13            False             False                       False  \n",
            "14            False             False                       False  \n",
            "15            False             False                        True  \n"
          ]
        }
      ]
    },
    {
      "cell_type": "code",
      "source": [
        "\n",
        "\n",
        "\n",
        "caminho_novo_arquivo = 'dados_codificados.csv'\n",
        "\n",
        "# Salvo os dados codificados no novo arquivo CSV\n",
        "df_encoded.to_csv(caminho_novo_arquivo, index=False)\n"
      ],
      "metadata": {
        "id": "HbJcSRr8-I8X"
      },
      "execution_count": 29,
      "outputs": []
    },
    {
      "cell_type": "code",
      "source": [
        "import pandas as pd\n",
        "from sklearn.model_selection import train_test_split\n",
        "from tensorflow.keras.models import Sequential\n",
        "from tensorflow.keras.layers import Dense\n",
        "\n",
        "# Carregar dados CSV usando Pandas\n",
        "data = pd.read_csv('/content/dados_codificados.csv')\n",
        "\n",
        "# Pré-processamento dos dados\n",
        "X = data.drop('texto_Administração', axis=1)  # Remover apenas a coluna alvo\n",
        "y = data['texto_Administração']  # Coluna alvo\n",
        "\n",
        "# Adicionar as colunas desejadas\n",
        "\n",
        "X['texto_Campinas'] = data['texto_Campinas']\n",
        "X['texto_Administração'] = y  # Adicionar a coluna alvo de volta ao DataFrame X\n",
        "\n",
        "# Dividir os dados em conjuntos de treinamento e teste\n",
        "X_train, X_test, y_train, y_test = train_test_split(X, y, test_size=0.2, random_state=42)\n",
        "\n",
        "# Construir modelo de rede neural com Keras\n",
        "model = Sequential([\n",
        "    Dense(64, activation='relu', input_shape=(X_train.shape[1],)),\n",
        "    Dense(64, activation='relu'),\n",
        "    Dense(1, activation='sigmoid')\n",
        "])\n",
        "\n",
        "# Compilar o modelo\n",
        "model.compile(optimizer='adam', loss='binary_crossentropy', metrics=['accuracy'])\n",
        "\n",
        "# Treinar o modelo\n",
        "model.fit(X_train, y_train, epochs=10, batch_size=32, validation_data=(X_test, y_test))\n",
        "\n",
        "# Avaliar o modelo\n",
        "loss, accuracy = model.evaluate(X_test, y_test)\n",
        "print('Loss:', loss)\n",
        "print('Accuracy:', accuracy)\n"
      ],
      "metadata": {
        "colab": {
          "base_uri": "https://localhost:8080/"
        },
        "id": "IL0-tVyaE4wY",
        "outputId": "f0274065-d562-4c92-ca42-b6300d4ff67b"
      },
      "execution_count": 31,
      "outputs": [
        {
          "output_type": "stream",
          "name": "stdout",
          "text": [
            "Epoch 1/10\n",
            "1/1 [==============================] - 1s 663ms/step - loss: 0.6683 - accuracy: 0.9167 - val_loss: 0.6921 - val_accuracy: 0.5000\n",
            "Epoch 2/10\n",
            "1/1 [==============================] - 0s 26ms/step - loss: 0.6508 - accuracy: 1.0000 - val_loss: 0.6864 - val_accuracy: 0.7500\n",
            "Epoch 3/10\n",
            "1/1 [==============================] - 0s 25ms/step - loss: 0.6337 - accuracy: 1.0000 - val_loss: 0.6812 - val_accuracy: 0.7500\n",
            "Epoch 4/10\n",
            "1/1 [==============================] - 0s 27ms/step - loss: 0.6174 - accuracy: 1.0000 - val_loss: 0.6760 - val_accuracy: 0.7500\n",
            "Epoch 5/10\n",
            "1/1 [==============================] - 0s 27ms/step - loss: 0.6012 - accuracy: 1.0000 - val_loss: 0.6710 - val_accuracy: 0.7500\n",
            "Epoch 6/10\n",
            "1/1 [==============================] - 0s 28ms/step - loss: 0.5850 - accuracy: 1.0000 - val_loss: 0.6665 - val_accuracy: 0.7500\n",
            "Epoch 7/10\n",
            "1/1 [==============================] - 0s 38ms/step - loss: 0.5692 - accuracy: 1.0000 - val_loss: 0.6623 - val_accuracy: 0.7500\n",
            "Epoch 8/10\n",
            "1/1 [==============================] - 0s 27ms/step - loss: 0.5536 - accuracy: 1.0000 - val_loss: 0.6585 - val_accuracy: 0.7500\n",
            "Epoch 9/10\n",
            "1/1 [==============================] - 0s 28ms/step - loss: 0.5383 - accuracy: 1.0000 - val_loss: 0.6548 - val_accuracy: 0.7500\n",
            "Epoch 10/10\n",
            "1/1 [==============================] - 0s 27ms/step - loss: 0.5229 - accuracy: 1.0000 - val_loss: 0.6508 - val_accuracy: 0.7500\n",
            "1/1 [==============================] - 0s 17ms/step - loss: 0.6508 - accuracy: 0.7500\n",
            "Loss: 0.6507692933082581\n",
            "Accuracy: 0.75\n"
          ]
        }
      ]
    },
    {
      "cell_type": "code",
      "source": [
        "# Gerar previsões\n",
        "predictions = model.predict(X_test)\n",
        "\n",
        "# Exibir algumas previsões e seus valores reais\n",
        "for i in range(min(10, len(predictions))):\n",
        "    print(\"Previsão:\", predictions[i])\n",
        "    print(\"Valor real:\", y_test.iloc[i])\n",
        "\n"
      ],
      "metadata": {
        "colab": {
          "base_uri": "https://localhost:8080/"
        },
        "id": "d6hkUETpGE1W",
        "outputId": "7596eca5-d29c-41f1-96b1-984a01cf0b70"
      },
      "execution_count": 32,
      "outputs": [
        {
          "output_type": "stream",
          "name": "stdout",
          "text": [
            "1/1 [==============================] - 0s 39ms/step\n",
            "Previsão: [0.40733945]\n",
            "Valor real: False\n",
            "Previsão: [0.42516744]\n",
            "Valor real: False\n",
            "Previsão: [0.43006718]\n",
            "Valor real: False\n",
            "Previsão: [0.38135275]\n",
            "Valor real: True\n"
          ]
        }
      ]
    },
    {
      "cell_type": "code",
      "source": [
        "import matplotlib.pyplot as plt\n",
        "\n",
        "# Exibir algumas previsões e seus valores reais\n",
        "num_samples = min(10, len(predictions))\n",
        "plt.figure(figsize=(10, 6))\n",
        "plt.plot(range(num_samples), predictions[:num_samples], label='Previsões', marker='o')\n",
        "plt.plot(range(num_samples), y_test.iloc[:num_samples], label='Valores reais', marker='x')\n",
        "plt.title('Previsões vs Valores reais')\n",
        "plt.xlabel('Amostras')\n",
        "plt.ylabel('Valor')\n",
        "plt.legend()\n",
        "plt.grid(True)\n",
        "plt.show()\n"
      ],
      "metadata": {
        "id": "OelsZkWNGXyV",
        "outputId": "daefb925-2f88-49bd-f78d-6faa4783060b",
        "colab": {
          "base_uri": "https://localhost:8080/",
          "height": 564
        }
      },
      "execution_count": 33,
      "outputs": [
        {
          "output_type": "display_data",
          "data": {
            "text/plain": [
              "<Figure size 1000x600 with 1 Axes>"
            ],
            "image/png": "[encoded data removed]"
          },
          "metadata": {}
        }
      ]
    },
    {
      "cell_type": "code",
      "source": [
        "import matplotlib.pyplot as plt\n",
        "\n",
        "# Gerar previsões\n",
        "predictions = model.predict(X_test)\n",
        "\n",
        "# Exibir algumas previsões e seus valores reais\n",
        "num_samples = min(10, len(predictions))\n",
        "plt.figure(figsize=(10, 6))\n",
        "plt.plot(range(num_samples), predictions[:num_samples], label='Previsões', marker='o')\n",
        "plt.plot(range(num_samples), y_test.iloc[:num_samples], label='Valores reais', marker='x')\n",
        "plt.title('Previsões vs Valores reais')\n",
        "plt.xlabel('Amostras')\n",
        "plt.ylabel('Valor')\n",
        "plt.legend()\n",
        "plt.grid(True)\n",
        "plt.show()\n"
      ],
      "metadata": {
        "id": "a17k48Ic1WL6",
        "outputId": "4bb6ded6-f968-481e-f65b-ecf3a8d4d5ae",
        "colab": {
          "base_uri": "https://localhost:8080/",
          "height": 581
        }
      },
      "execution_count": null,
      "outputs": [
        {
          "output_type": "stream",
          "name": "stdout",
          "text": [
            "1/1 [==============================] - 0s 48ms/step\n"
          ]
        },
        {
          "output_type": "display_data",
          "data": {
            "text/plain": [
              "<Figure size 1000x600 with 1 Axes>"
            ],
            "image/png": "[encoded data removed]"
          },
          "metadata": {}
        }
      ]
    },
    {
      "cell_type": "code",
      "source": [
        "!apt-get install openjdk-8-jdk-headless -qq > /dev/null"
      ],
      "metadata": {
        "id": "VYPmPfpmbCAq"
      },
      "execution_count": 34,
      "outputs": []
    },
    {
      "cell_type": "code",
      "source": [
        "!wget https://archive.apache.org/dist/spark/spark-3.1.2/spark-3.1.2-bin-hadoop3.2.tgz\n",
        "!tar -xf spark-3.1.2-bin-hadoop3.2.tgz"
      ],
      "metadata": {
        "id": "EQ4cUVvHbY80",
        "outputId": "99d65df2-c102-47bc-eff7-6e0726010bf7",
        "colab": {
          "base_uri": "https://localhost:8080/"
        }
      },
      "execution_count": 35,
      "outputs": [
        {
          "output_type": "stream",
          "name": "stdout",
          "text": [
            "--2024-05-20 21:52:36--  https://archive.apache.org/dist/spark/spark-3.1.2/spark-3.1.2-bin-hadoop3.2.tgz\n",
            "Resolving archive.apache.org (archive.apache.org)... 65.108.204.189, 2a01:4f9:1a:a084::2\n",
            "Connecting to archive.apache.org (archive.apache.org)|65.108.204.189|:443... connected.\n",
            "HTTP request sent, awaiting response... 200 OK\n",
            "Length: 228834641 (218M) [application/x-gzip]\n",
            "Saving to: ‘spark-3.1.2-bin-hadoop3.2.tgz.1’\n",
            "\n",
            "spark-3.1.2-bin-had 100%[===================>] 218.23M  24.5MB/s    in 10s     \n",
            "\n",
            "2024-05-20 21:52:46 (21.9 MB/s) - ‘spark-3.1.2-bin-hadoop3.2.tgz.1’ saved [228834641/228834641]\n",
            "\n"
          ]
        }
      ]
    },
    {
      "cell_type": "code",
      "source": [
        "import os\n",
        "\n",
        "os.environ['JAVA_HOME'] = '/usr/lib/jvm/java-8-openjdk-amd64'\n",
        "os.environ['SPARK_HOME'] = '/content/spark-3.1.2-bin-hadoop3.2'"
      ],
      "metadata": {
        "id": "2_BGTC5icn59"
      },
      "execution_count": 36,
      "outputs": []
    },
    {
      "cell_type": "code",
      "source": [
        "!pip install findspark\n",
        "\n",
        "import findspark\n",
        "findspark.init('/content/spark-3.1.2-bin-hadoop3.2')"
      ],
      "metadata": {
        "id": "vhSi719mcuuK",
        "outputId": "74cfce18-e174-4cf6-cd26-258a43b07401",
        "colab": {
          "base_uri": "https://localhost:8080/"
        }
      },
      "execution_count": 37,
      "outputs": [
        {
          "output_type": "stream",
          "name": "stdout",
          "text": [
            "Requirement already satisfied: findspark in /usr/local/lib/python3.10/dist-packages (2.0.1)\n"
          ]
        }
      ]
    },
    {
      "cell_type": "code",
      "source": [
        "import pyspark.sql as spark\n",
        "\n",
        "spark = spark.SparkSession.builder.appName(\"TesteSpark\").getOrCreate()"
      ],
      "metadata": {
        "id": "eASGbrUAc1V3"
      },
      "execution_count": 38,
      "outputs": []
    },
    {
      "cell_type": "code",
      "source": [
        "from pyspark.sql import SparkSession\n",
        "spark = SparkSession.builder.master('local[*]').getOrCreate()"
      ],
      "metadata": {
        "id": "GGgXycCgdHfT"
      },
      "execution_count": 39,
      "outputs": []
    },
    {
      "cell_type": "code",
      "source": [
        "dataset = spark.read.csv('/content/dados_codificados.csv',inferSchema=True, header = True)"
      ],
      "metadata": {
        "id": "DL4gS9gsdOua"
      },
      "execution_count": 40,
      "outputs": []
    },
    {
      "cell_type": "code",
      "source": [
        "dataset.printSchema()"
      ],
      "metadata": {
        "id": "o-LhEhKBdd0_",
        "outputId": "b8e1b0e7-4ffa-45ec-eb1f-9db826516e44",
        "colab": {
          "base_uri": "https://localhost:8080/"
        }
      },
      "execution_count": 41,
      "outputs": [
        {
          "output_type": "stream",
          "name": "stdout",
          "text": [
            "root\n",
            " |-- texto_Administração: boolean (nullable = true)\n",
            " |-- texto_Assistente Administrativo: boolean (nullable = true)\n",
            " |-- texto_Auxiliar Administrativo: boolean (nullable = true)\n",
            " |-- texto_Campinas: boolean (nullable = true)\n",
            " |-- texto_Curitiba: boolean (nullable = true)\n",
            " |-- texto_Florianópolis: boolean (nullable = true)\n",
            " |-- texto_Fortaleza: boolean (nullable = true)\n",
            " |-- texto_Goiânia: boolean (nullable = true)\n",
            " |-- texto_Londrina: boolean (nullable = true)\n",
            " |-- texto_Maringá: boolean (nullable = true)\n",
            " |-- texto_Porto Alegre: boolean (nullable = true)\n",
            " |-- texto_Rio de Janeiro: boolean (nullable = true)\n",
            " |-- texto_Sorocaba: boolean (nullable = true)\n",
            " |-- texto_São Paulo: boolean (nullable = true)\n",
            " |-- texto_Uberlândia: boolean (nullable = true)\n",
            " |-- texto_Vagas de Home Office: boolean (nullable = true)\n",
            "\n"
          ]
        }
      ]
    },
    {
      "cell_type": "code",
      "source": [
        "import pandas as pd\n",
        "from pyspark.sql import SparkSession\n",
        "from pyspark.ml.feature import VectorAssembler\n",
        "from pyspark.ml.clustering import KMeans\n",
        "import pyspark.sql.functions as F\n",
        "import google.generativeai as genai\n",
        "import re\n",
        "import textwrap\n",
        "from IPython.display import display, Markdown\n",
        "from google.colab import userdata\n",
        "\n",
        "\n",
        "# Configuração do Spark\n",
        "spark = SparkSession.builder.appName(\"JobBot\").getOrCreate()\n",
        "\n",
        "# Carregar os dados\n",
        "dataset = spark.read.csv('/content/dados_codificados.csv', inferSchema=True, header=True)\n",
        "\n",
        "# Criar vetor de features\n",
        "assembler = VectorAssembler(inputCols=[col for col in dataset.columns if col != 'texto_Administração'], outputCol=\"features\")\n",
        "dataset = assembler.transform(dataset)\n",
        "\n",
        "# Funções para o Chatbot\n",
        "def recommend_jobs(areas, cidades):\n",
        "  \"\"\"Recomenda vagas com base nas áreas e cidades fornecidas.\"\"\"\n",
        "  filtered_df = dataset\n",
        "  for area in areas:\n",
        "    filtered_df = filtered_df.filter(F.col(f\"texto_{area}\") == True)\n",
        "  for cidade in cidades:\n",
        "    filtered_df = filtered_df.filter(F.col(f\"texto_{cidade}\") == True)\n",
        "  if filtered_df.count() == 0:\n",
        "    return \"Desculpe, não encontrei nenhuma vaga com essas preferências.\"\n",
        "\n",
        "  kmeans = KMeans(featuresCol=\"features\", k=min(3, filtered_df.count()))\n",
        "  model = kmeans.fit(filtered_df)\n",
        "  transformed_df = model.transform(filtered_df)\n",
        "\n",
        "  recommendations = transformed_df.groupBy(\"prediction\").agg(F.first(\"features\").alias(\"features\"))\n",
        "  result = []\n",
        "  for row in recommendations.collect():\n",
        "    features = [col for col, value in zip(dataset.columns, row.features) if value == 1.0 and col != 'features']\n",
        "    result.append(', '.join(features))\n",
        "  return \"Encontrei estas vagas que podem te interessar:\\n\" + '\\n'.join(result)\n",
        "\n",
        "\n",
        "def get_user_preferences(user_input):\n",
        "  \"\"\"Extrai as preferências do usuário a partir da entrada de texto.\"\"\"\n",
        "  areas = []\n",
        "  cidades = []\n",
        "  area_match = re.findall(r\"Busco vagas em ([\\w\\s]+)\\.\", user_input)\n",
        "  cidade_match = re.findall(r\"Quero trabalhar em ([\\w\\s]+)\\.\", user_input)\n",
        "  areas.extend(area_match)\n",
        "  cidades.extend(cidade_match)\n",
        "  return areas, cidades\n",
        "\n",
        "# Configuração do Google Gemini\n",
        "\n",
        "api_key = userdata.get('SECRET_KEY')\n",
        "genai.configure(api_key=api_key)\n",
        "generation_config = {\n",
        "    \"candidate_count\": 1,\n",
        "    \"temperature\": 0.5,\n",
        "    \"top_p\": 1,\n",
        "}\n",
        "safety_settings = {\n",
        "    'HATE': 'BLOCK_NONE',\n",
        "    'HARASSMENT': 'BLOCK_NONE',\n",
        "    'SEXUAL': 'BLOCK_NONE',\n",
        "    'DANGEROUS': 'BLOCK_NONE'\n",
        "}\n",
        "model = genai.GenerativeModel(model_name='gemini-1.0-pro',\n",
        "                             generation_config=generation_config,\n",
        "                             safety_settings=safety_settings)\n",
        "\n",
        "# Função para formatar a resposta como Markdown\n",
        "def to_markdown(text):\n",
        "  text = text.replace('•', '  *')\n",
        "  return Markdown(textwrap.indent(text, '> ', predicate=lambda _: True))\n",
        "\n",
        "# Loop principal do chatbot\n",
        "chat = model.start_chat(history=[])\n",
        "print(\"JobBot: Olá! Sou o JobBot, posso te ajudar a encontrar uma vaga. \\\n",
        "       Conte-me sobre suas preferências de emprego. \\\n",
        "       Exemplos: 'Busco vagas em Administração.' ou 'Quero trabalhar em São Paulo.'\")\n",
        "\n",
        "while True:\n",
        "  try:\n",
        "    user_input = input(\"Você: \")\n",
        "    response = chat.send_message(user_input)\n",
        "    print(\"JobBot:\", response.text, '\\n')\n",
        "\n",
        "    areas, cidades = get_user_preferences(user_input)\n",
        "    if areas or cidades:\n",
        "      recommendations = recommend_jobs(areas, cidades)\n",
        "      print(\"JobBot:\", recommendations, '\\n')\n",
        "      chat.history.append(genai.ChatMessage(role=\"user\", content=recommendations)) # Adicionar recomendações ao histórico\n",
        "\n",
        "  except (KeyboardInterrupt, EOFError, SystemExit):\n",
        "    break\n",
        "\n",
        "# Imprimir histórico da conversa\n",
        "print(\"\\nHistórico da Conversa:\")\n",
        "for message in chat.history:\n",
        "  display(to_markdown(f'**{message.role}**: {message.parts[0].text}'))\n",
        "  print('-------------------------------------------')"
      ],
      "metadata": {
        "colab": {
          "base_uri": "https://localhost:8080/",
          "height": 1000
        },
        "id": "VpEd67_lSg5O",
        "outputId": "49e885c4-d4ad-43dc-9dc0-09f1cfbd9257"
      },
      "execution_count": 42,
      "outputs": [
        {
          "output_type": "stream",
          "name": "stdout",
          "text": [
            "JobBot: Olá! Sou o JobBot, posso te ajudar a encontrar uma vaga.        Conte-me sobre suas preferências de emprego.        Exemplos: 'Busco vagas em Administração.' ou 'Quero trabalhar em São Paulo.'\n",
            "Você: me mande o link de vagas de administração do site da Catho, quero vagas que realmente existam\n",
            "JobBot: **Vagas de Administração no Site da Catho**\n",
            "\n",
            "**ATENÇÃO:** Os links abaixo levam para páginas de resultados de pesquisa que podem conter vagas que não estão mais disponíveis. Recomenda-se verificar a data de publicação das vagas antes de se candidatar.\n",
            "\n",
            "* **Gestor Administrativo**\n",
            "https://www.catho.com.br/vagas/gestor-administrativo/\n",
            "\n",
            "* **Assistente Administrativo**\n",
            "https://www.catho.com.br/vagas/assistente-administrativo/\n",
            "\n",
            "* **Analista Administrativo**\n",
            "https://www.catho.com.br/vagas/analista-administrativo/\n",
            "\n",
            "* **Supervisor Administrativo**\n",
            "https://www.catho.com.br/vagas/supervisor-administrativo/\n",
            "\n",
            "* **Gerente Administrativo Financeiro**\n",
            "https://www.catho.com.br/vagas/gerente-administrativo-financeiro/\n",
            "\n",
            "* **Analista de Controladoria**\n",
            "https://www.catho.com.br/vagas/analista-de-controladoria/\n",
            "\n",
            "* **Analista de Recursos Humanos**\n",
            "https://www.catho.com.br/vagas/analista-de-recursos-humanos/\n",
            "\n",
            "* **Analista de Marketing**\n",
            "https://www.catho.com.br/vagas/analista-de-marketing/\n",
            "\n",
            "* **Analista de Business Intelligence**\n",
            "https://www.catho.com.br/vagas/analista-de-business-intelligence/\n",
            "\n",
            "* **Analista de Sistemas**\n",
            "https://www.catho.com.br/vagas/analista-de-sistemas/ \n",
            "\n",
            "Você: agora me mande vagas de TI no site da Catho, vagas que realmente existam \n",
            "JobBot: **Vagas de TI no Site da Catho**\n",
            "\n",
            "**ATENÇÃO:** Os links abaixo levam para páginas de resultados de pesquisa que podem conter vagas que não estão mais disponíveis. Recomenda-se verificar a data de publicação das vagas antes de se candidatar.\n",
            "\n",
            "* **Desenvolvedor de Software**\n",
            "https://www.catho.com.br/vagas/desenvolvedor-de-software/\n",
            "\n",
            "* **Analista de Sistemas**\n",
            "https://www.catho.com.br/vagas/analista-de-sistemas/\n",
            "\n",
            "* **Arquiteto de Soluções**\n",
            "https://www.catho.com.br/vagas/arquiteto-de-solucoes/\n",
            "\n",
            "* **Gerente de Projetos de TI**\n",
            "https://www.catho.com.br/vagas/gerente-de-projetos-de-ti/\n",
            "\n",
            "* **Administrador de Redes**\n",
            "https://www.catho.com.br/vagas/administrador-de-redes/\n",
            "\n",
            "* **Analista de Segurança da Informação**\n",
            "https://www.catho.com.br/vagas/analista-de-seguranca-da-informacao/\n",
            "\n",
            "* **Especialista em Big Data**\n",
            "https://www.catho.com.br/vagas/especialista-em-big-data/\n",
            "\n",
            "* **Cientista de Dados**\n",
            "https://www.catho.com.br/vagas/cientista-de-dados/\n",
            "\n",
            "* **Engenheiro de DevOps**\n",
            "https://www.catho.com.br/vagas/engenheiro-de-devops/\n",
            "\n",
            "* **Analista de Business Intelligence**\n",
            "https://www.catho.com.br/vagas/analista-de-business-intelligence/ \n",
            "\n",
            "\n",
            "Histórico da Conversa:\n"
          ]
        },
        {
          "output_type": "display_data",
          "data": {
            "text/plain": [
              "<IPython.core.display.Markdown object>"
            ],
            "text/markdown": "> **user**: me mande o link de vagas de administração do site da Catho, quero vagas que realmente existam"
          },
          "metadata": {}
        },
        {
          "output_type": "stream",
          "name": "stdout",
          "text": [
            "-------------------------------------------\n"
          ]
        },
        {
          "output_type": "display_data",
          "data": {
            "text/plain": [
              "<IPython.core.display.Markdown object>"
            ],
            "text/markdown": "> **model**: **Vagas de Administração no Site da Catho**\n> \n> **ATENÇÃO:** Os links abaixo levam para páginas de resultados de pesquisa que podem conter vagas que não estão mais disponíveis. Recomenda-se verificar a data de publicação das vagas antes de se candidatar.\n> \n> * **Gestor Administrativo**\n> https://www.catho.com.br/vagas/gestor-administrativo/\n> \n> * **Assistente Administrativo**\n> https://www.catho.com.br/vagas/assistente-administrativo/\n> \n> * **Analista Administrativo**\n> https://www.catho.com.br/vagas/analista-administrativo/\n> \n> * **Supervisor Administrativo**\n> https://www.catho.com.br/vagas/supervisor-administrativo/\n> \n> * **Gerente Administrativo Financeiro**\n> https://www.catho.com.br/vagas/gerente-administrativo-financeiro/\n> \n> * **Analista de Controladoria**\n> https://www.catho.com.br/vagas/analista-de-controladoria/\n> \n> * **Analista de Recursos Humanos**\n> https://www.catho.com.br/vagas/analista-de-recursos-humanos/\n> \n> * **Analista de Marketing**\n> https://www.catho.com.br/vagas/analista-de-marketing/\n> \n> * **Analista de Business Intelligence**\n> https://www.catho.com.br/vagas/analista-de-business-intelligence/\n> \n> * **Analista de Sistemas**\n> https://www.catho.com.br/vagas/analista-de-sistemas/"
          },
          "metadata": {}
        },
        {
          "output_type": "stream",
          "name": "stdout",
          "text": [
            "-------------------------------------------\n"
          ]
        },
        {
          "output_type": "display_data",
          "data": {
            "text/plain": [
              "<IPython.core.display.Markdown object>"
            ],
            "text/markdown": "> **user**: agora me mande vagas de TI no site da Catho, vagas que realmente existam "
          },
          "metadata": {}
        },
        {
          "output_type": "stream",
          "name": "stdout",
          "text": [
            "-------------------------------------------\n"
          ]
        },
        {
          "output_type": "display_data",
          "data": {
            "text/plain": [
              "<IPython.core.display.Markdown object>"
            ],
            "text/markdown": "> **model**: **Vagas de TI no Site da Catho**\n> \n> **ATENÇÃO:** Os links abaixo levam para páginas de resultados de pesquisa que podem conter vagas que não estão mais disponíveis. Recomenda-se verificar a data de publicação das vagas antes de se candidatar.\n> \n> * **Desenvolvedor de Software**\n> https://www.catho.com.br/vagas/desenvolvedor-de-software/\n> \n> * **Analista de Sistemas**\n> https://www.catho.com.br/vagas/analista-de-sistemas/\n> \n> * **Arquiteto de Soluções**\n> https://www.catho.com.br/vagas/arquiteto-de-solucoes/\n> \n> * **Gerente de Projetos de TI**\n> https://www.catho.com.br/vagas/gerente-de-projetos-de-ti/\n> \n> * **Administrador de Redes**\n> https://www.catho.com.br/vagas/administrador-de-redes/\n> \n> * **Analista de Segurança da Informação**\n> https://www.catho.com.br/vagas/analista-de-seguranca-da-informacao/\n> \n> * **Especialista em Big Data**\n> https://www.catho.com.br/vagas/especialista-em-big-data/\n> \n> * **Cientista de Dados**\n> https://www.catho.com.br/vagas/cientista-de-dados/\n> \n> * **Engenheiro de DevOps**\n> https://www.catho.com.br/vagas/engenheiro-de-devops/\n> \n> * **Analista de Business Intelligence**\n> https://www.catho.com.br/vagas/analista-de-business-intelligence/"
          },
          "metadata": {}
        },
        {
          "output_type": "stream",
          "name": "stdout",
          "text": [
            "-------------------------------------------\n"
          ]
        }
      ]
    }
  ]
}