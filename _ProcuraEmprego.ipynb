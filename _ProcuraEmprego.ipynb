{
  "nbformat": 4,
  "nbformat_minor": 0,
  "metadata": {
    "colab": {
      "provenance": [],
      "mount_file_id": "https://github.com/KarinaSelingardi/ScrapyProcuraEmprego/blob/master/ProcuraEmprego.ipynb",
      "authorship_tag": "ABX9TyOxLkv3qqnborK4+va3rm7+",
      "include_colab_link": true
    },
    "kernelspec": {
      "name": "python3",
      "display_name": "Python 3"
    },
    "language_info": {
      "name": "python"
    }
  },
  "cells": [
    {
      "cell_type": "markdown",
      "metadata": {
        "id": "view-in-github",
        "colab_type": "text"
      },
      "source": [
        "<a href=\"https://colab.research.google.com/github/KarinaSelingardi/ScrapyProcuraEmprego/blob/master/_ProcuraEmprego.ipynb\" target=\"_parent\"><img src=\"https://colab.research.google.com/assets/colab-badge.svg\" alt=\"Open In Colab\"/></a>"
      ]
    },
    {
      "cell_type": "code",
      "source": [
        "import pandas as pd\n",
        "\n",
        "# Ler arquivo CSV\n",
        "df = pd.read_csv('Catho02.csv')"
      ],
      "metadata": {
        "id": "CuchJVD2rVwB"
      },
      "execution_count": null,
      "outputs": []
    },
    {
      "cell_type": "code",
      "source": [
        "import pandas as pd\n",
        "\n",
        "\n",
        "dados = [\"São Paulo\", \"Porto Alegre\", \"Fortaleza\", \"Londrina\", \"Uberlândia\", \"Rio de Janeiro\", \"Campinas\", \"Sorocaba\", \"Florianópolis\", \"Maringá\", \"Curitiba\", \"Goiânia\", \"Auxiliar Administrativo\", \"Recepcionista\", \"Assistente Administrativo\", \"Auxiliar de Produção\", \"Advogado\", \"Vendedor\", \"Engenheiro Civil\", \"Programador\", \"Atendente\", \"Operador de Caixa\", \"Enfermeiro\", \"Analista Financeiro\", \"Administração\", \"Financeira\", \"Saúde\", \"Engenharia\", \"Comercial e Vendas\", \"Telemarketing\", \"Industrial\", \"Educação\", \"Jurídica\", \"Informática\", \"Suprimentos\", \"Artes, Arquitetura e Design\", \"Vagas de Home Office\"]\n",
        "\n",
        "# Criar um DataFrame\n",
        "df = pd.DataFrame(dados, columns=['texto'])\n",
        "\n",
        "# Aplicar codificação one-hot\n",
        "df_encoded = pd.get_dummies(df)\n",
        "\n",
        "# Exibir o DataFrame codificado\n",
        "print(df_encoded)\n"
      ],
      "metadata": {
        "colab": {
          "base_uri": "https://localhost:8080/"
        },
        "id": "ospYjBLPtRgv",
        "outputId": "e35a7ad9-3aaf-48ae-8d2c-06500c1f1871"
      },
      "execution_count": null,
      "outputs": [
        {
          "output_type": "stream",
          "name": "stdout",
          "text": [
            "    texto_Administração  texto_Advogado  texto_Analista Financeiro  \\\n",
            "0                 False           False                      False   \n",
            "1                 False           False                      False   \n",
            "2                 False           False                      False   \n",
            "3                 False           False                      False   \n",
            "4                 False           False                      False   \n",
            "5                 False           False                      False   \n",
            "6                 False           False                      False   \n",
            "7                 False           False                      False   \n",
            "8                 False           False                      False   \n",
            "9                 False           False                      False   \n",
            "10                False           False                      False   \n",
            "11                False           False                      False   \n",
            "12                False           False                      False   \n",
            "13                False           False                      False   \n",
            "14                False           False                      False   \n",
            "15                False           False                      False   \n",
            "16                False            True                      False   \n",
            "17                False           False                      False   \n",
            "18                False           False                      False   \n",
            "19                False           False                      False   \n",
            "20                False           False                      False   \n",
            "21                False           False                      False   \n",
            "22                False           False                      False   \n",
            "23                False           False                       True   \n",
            "24                 True           False                      False   \n",
            "25                False           False                      False   \n",
            "26                False           False                      False   \n",
            "27                False           False                      False   \n",
            "28                False           False                      False   \n",
            "29                False           False                      False   \n",
            "30                False           False                      False   \n",
            "31                False           False                      False   \n",
            "32                False           False                      False   \n",
            "33                False           False                      False   \n",
            "34                False           False                      False   \n",
            "35                False           False                      False   \n",
            "36                False           False                      False   \n",
            "\n",
            "    texto_Artes, Arquitetura e Design  texto_Assistente Administrativo  \\\n",
            "0                               False                            False   \n",
            "1                               False                            False   \n",
            "2                               False                            False   \n",
            "3                               False                            False   \n",
            "4                               False                            False   \n",
            "5                               False                            False   \n",
            "6                               False                            False   \n",
            "7                               False                            False   \n",
            "8                               False                            False   \n",
            "9                               False                            False   \n",
            "10                              False                            False   \n",
            "11                              False                            False   \n",
            "12                              False                            False   \n",
            "13                              False                            False   \n",
            "14                              False                             True   \n",
            "15                              False                            False   \n",
            "16                              False                            False   \n",
            "17                              False                            False   \n",
            "18                              False                            False   \n",
            "19                              False                            False   \n",
            "20                              False                            False   \n",
            "21                              False                            False   \n",
            "22                              False                            False   \n",
            "23                              False                            False   \n",
            "24                              False                            False   \n",
            "25                              False                            False   \n",
            "26                              False                            False   \n",
            "27                              False                            False   \n",
            "28                              False                            False   \n",
            "29                              False                            False   \n",
            "30                              False                            False   \n",
            "31                              False                            False   \n",
            "32                              False                            False   \n",
            "33                              False                            False   \n",
            "34                              False                            False   \n",
            "35                               True                            False   \n",
            "36                              False                            False   \n",
            "\n",
            "    texto_Atendente  texto_Auxiliar Administrativo  \\\n",
            "0             False                          False   \n",
            "1             False                          False   \n",
            "2             False                          False   \n",
            "3             False                          False   \n",
            "4             False                          False   \n",
            "5             False                          False   \n",
            "6             False                          False   \n",
            "7             False                          False   \n",
            "8             False                          False   \n",
            "9             False                          False   \n",
            "10            False                          False   \n",
            "11            False                          False   \n",
            "12            False                           True   \n",
            "13            False                          False   \n",
            "14            False                          False   \n",
            "15            False                          False   \n",
            "16            False                          False   \n",
            "17            False                          False   \n",
            "18            False                          False   \n",
            "19            False                          False   \n",
            "20             True                          False   \n",
            "21            False                          False   \n",
            "22            False                          False   \n",
            "23            False                          False   \n",
            "24            False                          False   \n",
            "25            False                          False   \n",
            "26            False                          False   \n",
            "27            False                          False   \n",
            "28            False                          False   \n",
            "29            False                          False   \n",
            "30            False                          False   \n",
            "31            False                          False   \n",
            "32            False                          False   \n",
            "33            False                          False   \n",
            "34            False                          False   \n",
            "35            False                          False   \n",
            "36            False                          False   \n",
            "\n",
            "    texto_Auxiliar de Produção  texto_Campinas  texto_Comercial e Vendas  ...  \\\n",
            "0                        False           False                     False  ...   \n",
            "1                        False           False                     False  ...   \n",
            "2                        False           False                     False  ...   \n",
            "3                        False           False                     False  ...   \n",
            "4                        False           False                     False  ...   \n",
            "5                        False           False                     False  ...   \n",
            "6                        False            True                     False  ...   \n",
            "7                        False           False                     False  ...   \n",
            "8                        False           False                     False  ...   \n",
            "9                        False           False                     False  ...   \n",
            "10                       False           False                     False  ...   \n",
            "11                       False           False                     False  ...   \n",
            "12                       False           False                     False  ...   \n",
            "13                       False           False                     False  ...   \n",
            "14                       False           False                     False  ...   \n",
            "15                        True           False                     False  ...   \n",
            "16                       False           False                     False  ...   \n",
            "17                       False           False                     False  ...   \n",
            "18                       False           False                     False  ...   \n",
            "19                       False           False                     False  ...   \n",
            "20                       False           False                     False  ...   \n",
            "21                       False           False                     False  ...   \n",
            "22                       False           False                     False  ...   \n",
            "23                       False           False                     False  ...   \n",
            "24                       False           False                     False  ...   \n",
            "25                       False           False                     False  ...   \n",
            "26                       False           False                     False  ...   \n",
            "27                       False           False                     False  ...   \n",
            "28                       False           False                      True  ...   \n",
            "29                       False           False                     False  ...   \n",
            "30                       False           False                     False  ...   \n",
            "31                       False           False                     False  ...   \n",
            "32                       False           False                     False  ...   \n",
            "33                       False           False                     False  ...   \n",
            "34                       False           False                     False  ...   \n",
            "35                       False           False                     False  ...   \n",
            "36                       False           False                     False  ...   \n",
            "\n",
            "    texto_Recepcionista  texto_Rio de Janeiro  texto_Saúde  texto_Sorocaba  \\\n",
            "0                 False                 False        False           False   \n",
            "1                 False                 False        False           False   \n",
            "2                 False                 False        False           False   \n",
            "3                 False                 False        False           False   \n",
            "4                 False                 False        False           False   \n",
            "5                 False                  True        False           False   \n",
            "6                 False                 False        False           False   \n",
            "7                 False                 False        False            True   \n",
            "8                 False                 False        False           False   \n",
            "9                 False                 False        False           False   \n",
            "10                False                 False        False           False   \n",
            "11                False                 False        False           False   \n",
            "12                False                 False        False           False   \n",
            "13                 True                 False        False           False   \n",
            "14                False                 False        False           False   \n",
            "15                False                 False        False           False   \n",
            "16                False                 False        False           False   \n",
            "17                False                 False        False           False   \n",
            "18                False                 False        False           False   \n",
            "19                False                 False        False           False   \n",
            "20                False                 False        False           False   \n",
            "21                False                 False        False           False   \n",
            "22                False                 False        False           False   \n",
            "23                False                 False        False           False   \n",
            "24                False                 False        False           False   \n",
            "25                False                 False        False           False   \n",
            "26                False                 False         True           False   \n",
            "27                False                 False        False           False   \n",
            "28                False                 False        False           False   \n",
            "29                False                 False        False           False   \n",
            "30                False                 False        False           False   \n",
            "31                False                 False        False           False   \n",
            "32                False                 False        False           False   \n",
            "33                False                 False        False           False   \n",
            "34                False                 False        False           False   \n",
            "35                False                 False        False           False   \n",
            "36                False                 False        False           False   \n",
            "\n",
            "    texto_Suprimentos  texto_São Paulo  texto_Telemarketing  texto_Uberlândia  \\\n",
            "0               False             True                False             False   \n",
            "1               False            False                False             False   \n",
            "2               False            False                False             False   \n",
            "3               False            False                False             False   \n",
            "4               False            False                False              True   \n",
            "5               False            False                False             False   \n",
            "6               False            False                False             False   \n",
            "7               False            False                False             False   \n",
            "8               False            False                False             False   \n",
            "9               False            False                False             False   \n",
            "10              False            False                False             False   \n",
            "11              False            False                False             False   \n",
            "12              False            False                False             False   \n",
            "13              False            False                False             False   \n",
            "14              False            False                False             False   \n",
            "15              False            False                False             False   \n",
            "16              False            False                False             False   \n",
            "17              False            False                False             False   \n",
            "18              False            False                False             False   \n",
            "19              False            False                False             False   \n",
            "20              False            False                False             False   \n",
            "21              False            False                False             False   \n",
            "22              False            False                False             False   \n",
            "23              False            False                False             False   \n",
            "24              False            False                False             False   \n",
            "25              False            False                False             False   \n",
            "26              False            False                False             False   \n",
            "27              False            False                False             False   \n",
            "28              False            False                False             False   \n",
            "29              False            False                 True             False   \n",
            "30              False            False                False             False   \n",
            "31              False            False                False             False   \n",
            "32              False            False                False             False   \n",
            "33              False            False                False             False   \n",
            "34               True            False                False             False   \n",
            "35              False            False                False             False   \n",
            "36              False            False                False             False   \n",
            "\n",
            "    texto_Vagas de Home Office  texto_Vendedor  \n",
            "0                        False           False  \n",
            "1                        False           False  \n",
            "2                        False           False  \n",
            "3                        False           False  \n",
            "4                        False           False  \n",
            "5                        False           False  \n",
            "6                        False           False  \n",
            "7                        False           False  \n",
            "8                        False           False  \n",
            "9                        False           False  \n",
            "10                       False           False  \n",
            "11                       False           False  \n",
            "12                       False           False  \n",
            "13                       False           False  \n",
            "14                       False           False  \n",
            "15                       False           False  \n",
            "16                       False           False  \n",
            "17                       False            True  \n",
            "18                       False           False  \n",
            "19                       False           False  \n",
            "20                       False           False  \n",
            "21                       False           False  \n",
            "22                       False           False  \n",
            "23                       False           False  \n",
            "24                       False           False  \n",
            "25                       False           False  \n",
            "26                       False           False  \n",
            "27                       False           False  \n",
            "28                       False           False  \n",
            "29                       False           False  \n",
            "30                       False           False  \n",
            "31                       False           False  \n",
            "32                       False           False  \n",
            "33                       False           False  \n",
            "34                       False           False  \n",
            "35                       False           False  \n",
            "36                        True           False  \n",
            "\n",
            "[37 rows x 37 columns]\n"
          ]
        }
      ]
    },
    {
      "cell_type": "code",
      "source": [
        "\n",
        "\n",
        "\n",
        "caminho_novo_arquivo = 'dados_codificados.csv'\n",
        "\n",
        "# Salvo os dados codificados no novo arquivo CSV\n",
        "df_encoded.to_csv(caminho_novo_arquivo, index=False)\n"
      ],
      "metadata": {
        "id": "HbJcSRr8-I8X"
      },
      "execution_count": null,
      "outputs": []
    },
    {
      "cell_type": "code",
      "source": [
        "import pandas as pd\n",
        "import numpy as np\n",
        "from sklearn.model_selection import train_test_split\n",
        "from tensorflow.keras.models import Sequential\n",
        "from tensorflow.keras.layers import Dense\n",
        "\n",
        "# Carregar dados CSV usando Pandas\n",
        "data = pd.read_csv('/content/dados_codificados.csv')\n",
        "\n",
        "# Pré-processamento dos dados\n",
        "X = data.drop('texto_Administração', axis=1)\n",
        "y = data['texto_Administração']\n",
        "\n",
        "# Dividir os dados em conjuntos de treinamento e teste\n",
        "X_train, X_test, y_train, y_test = train_test_split(X, y, test_size=0.2, random_state=42)\n",
        "\n",
        "# Construir modelo de rede neural com Keras\n",
        "model = Sequential([\n",
        "    Dense(64, activation='relu', input_shape=(X_train.shape[1],)),\n",
        "    Dense(64, activation='relu'),\n",
        "    Dense(1, activation='sigmoid')\n",
        "])\n",
        "\n",
        "# Compilar o modelo\n",
        "model.compile(optimizer='adam', loss='binary_crossentropy', metrics=['accuracy'])\n",
        "\n",
        "# Treinar o modelo\n",
        "model.fit(X_train, y_train, epochs=10, batch_size=32, validation_data=(X_test, y_test))\n",
        "\n",
        "# Avaliar o modelo\n",
        "loss, accuracy = model.evaluate(X_test, y_test)\n",
        "print('Loss:', loss)\n",
        "print('Accuracy:', accuracy)\n"
      ],
      "metadata": {
        "colab": {
          "base_uri": "https://localhost:8080/"
        },
        "id": "N50kX9wsB5h4",
        "outputId": "0bd89679-0d9d-4d44-932f-8b11f18074d1"
      },
      "execution_count": null,
      "outputs": [
        {
          "output_type": "stream",
          "name": "stdout",
          "text": [
            "Epoch 1/10\n",
            "1/1 [==============================] - 2s 2s/step - loss: 0.7028 - accuracy: 0.4483 - val_loss: 0.7068 - val_accuracy: 0.2500\n",
            "Epoch 2/10\n",
            "1/1 [==============================] - 0s 43ms/step - loss: 0.6857 - accuracy: 0.5172 - val_loss: 0.6906 - val_accuracy: 0.5000\n",
            "Epoch 3/10\n",
            "1/1 [==============================] - 0s 40ms/step - loss: 0.6692 - accuracy: 0.6897 - val_loss: 0.6748 - val_accuracy: 0.7500\n",
            "Epoch 4/10\n",
            "1/1 [==============================] - 0s 44ms/step - loss: 0.6530 - accuracy: 0.7586 - val_loss: 0.6596 - val_accuracy: 0.8750\n",
            "Epoch 5/10\n",
            "1/1 [==============================] - 0s 51ms/step - loss: 0.6372 - accuracy: 0.8276 - val_loss: 0.6445 - val_accuracy: 0.8750\n",
            "Epoch 6/10\n",
            "1/1 [==============================] - 0s 60ms/step - loss: 0.6217 - accuracy: 0.8966 - val_loss: 0.6292 - val_accuracy: 1.0000\n",
            "Epoch 7/10\n",
            "1/1 [==============================] - 0s 70ms/step - loss: 0.6064 - accuracy: 0.9310 - val_loss: 0.6141 - val_accuracy: 1.0000\n",
            "Epoch 8/10\n",
            "1/1 [==============================] - 0s 55ms/step - loss: 0.5914 - accuracy: 0.9655 - val_loss: 0.5990 - val_accuracy: 1.0000\n",
            "Epoch 9/10\n",
            "1/1 [==============================] - 0s 63ms/step - loss: 0.5767 - accuracy: 0.9655 - val_loss: 0.5843 - val_accuracy: 1.0000\n",
            "Epoch 10/10\n",
            "1/1 [==============================] - 0s 43ms/step - loss: 0.5622 - accuracy: 0.9655 - val_loss: 0.5697 - val_accuracy: 1.0000\n",
            "1/1 [==============================] - 0s 30ms/step - loss: 0.5697 - accuracy: 1.0000\n",
            "Loss: 0.569711446762085\n",
            "Accuracy: 1.0\n"
          ]
        }
      ]
    },
    {
      "cell_type": "code",
      "source": [
        "import pandas as pd\n",
        "from sklearn.model_selection import train_test_split\n",
        "from tensorflow.keras.models import Sequential\n",
        "from tensorflow.keras.layers import Dense\n",
        "\n",
        "# Carregar dados CSV usando Pandas\n",
        "data = pd.read_csv('/content/dados_codificados.csv')\n",
        "\n",
        "# Pré-processamento dos dados\n",
        "X = data.drop('texto_Administração', axis=1)  # Remover apenas a coluna alvo\n",
        "y = data['texto_Administração']  # Coluna alvo\n",
        "\n",
        "# Adicionar as colunas desejadas\n",
        "X['texto_Vagas de Home Office'] = data['texto_Vagas de Home Office']\n",
        "X['texto_Sorocaba'] = data['texto_Sorocaba']\n",
        "X['texto_Administração'] = y  # Adicionar a coluna alvo de volta ao DataFrame X\n",
        "\n",
        "# Dividir os dados em conjuntos de treinamento e teste\n",
        "X_train, X_test, y_train, y_test = train_test_split(X, y, test_size=0.2, random_state=42)\n",
        "\n",
        "# Construir modelo de rede neural com Keras\n",
        "model = Sequential([\n",
        "    Dense(64, activation='relu', input_shape=(X_train.shape[1],)),\n",
        "    Dense(64, activation='relu'),\n",
        "    Dense(1, activation='sigmoid')\n",
        "])\n",
        "\n",
        "# Compilar o modelo\n",
        "model.compile(optimizer='adam', loss='binary_crossentropy', metrics=['accuracy'])\n",
        "\n",
        "# Treinar o modelo\n",
        "model.fit(X_train, y_train, epochs=10, batch_size=32, validation_data=(X_test, y_test))\n",
        "\n",
        "# Avaliar o modelo\n",
        "loss, accuracy = model.evaluate(X_test, y_test)\n",
        "print('Loss:', loss)\n",
        "print('Accuracy:', accuracy)\n"
      ],
      "metadata": {
        "colab": {
          "base_uri": "https://localhost:8080/"
        },
        "id": "IL0-tVyaE4wY",
        "outputId": "51580f69-9a17-43af-b414-560c8f944940"
      },
      "execution_count": null,
      "outputs": [
        {
          "output_type": "stream",
          "name": "stdout",
          "text": [
            "Epoch 1/10\n",
            "1/1 [==============================] - 1s 986ms/step - loss: 0.6840 - accuracy: 0.5517 - val_loss: 0.6618 - val_accuracy: 1.0000\n",
            "Epoch 2/10\n",
            "1/1 [==============================] - 0s 62ms/step - loss: 0.6710 - accuracy: 0.7931 - val_loss: 0.6499 - val_accuracy: 1.0000\n",
            "Epoch 3/10\n",
            "1/1 [==============================] - 0s 58ms/step - loss: 0.6581 - accuracy: 0.9655 - val_loss: 0.6378 - val_accuracy: 1.0000\n",
            "Epoch 4/10\n",
            "1/1 [==============================] - 0s 45ms/step - loss: 0.6454 - accuracy: 0.9655 - val_loss: 0.6256 - val_accuracy: 1.0000\n",
            "Epoch 5/10\n",
            "1/1 [==============================] - 0s 44ms/step - loss: 0.6328 - accuracy: 0.9655 - val_loss: 0.6133 - val_accuracy: 1.0000\n",
            "Epoch 6/10\n",
            "1/1 [==============================] - 0s 40ms/step - loss: 0.6201 - accuracy: 0.9655 - val_loss: 0.6011 - val_accuracy: 1.0000\n",
            "Epoch 7/10\n",
            "1/1 [==============================] - 0s 46ms/step - loss: 0.6076 - accuracy: 0.9655 - val_loss: 0.5889 - val_accuracy: 1.0000\n",
            "Epoch 8/10\n",
            "1/1 [==============================] - 0s 55ms/step - loss: 0.5951 - accuracy: 0.9655 - val_loss: 0.5767 - val_accuracy: 1.0000\n",
            "Epoch 9/10\n",
            "1/1 [==============================] - 0s 60ms/step - loss: 0.5824 - accuracy: 0.9655 - val_loss: 0.5645 - val_accuracy: 1.0000\n",
            "Epoch 10/10\n",
            "1/1 [==============================] - 0s 61ms/step - loss: 0.5697 - accuracy: 0.9655 - val_loss: 0.5520 - val_accuracy: 1.0000\n",
            "1/1 [==============================] - 0s 34ms/step - loss: 0.5520 - accuracy: 1.0000\n",
            "Loss: 0.5520316362380981\n",
            "Accuracy: 1.0\n"
          ]
        }
      ]
    },
    {
      "cell_type": "code",
      "source": [
        "# Gerar previsões\n",
        "predictions = model.predict(X_test)\n",
        "\n",
        "# Exibir algumas previsões e seus valores reais\n",
        "for i in range(min(10, len(predictions))):\n",
        "    print(\"Previsão:\", predictions[i])\n",
        "    print(\"Valor real:\", y_test.iloc[i])\n",
        "\n"
      ],
      "metadata": {
        "colab": {
          "base_uri": "https://localhost:8080/"
        },
        "id": "d6hkUETpGE1W",
        "outputId": "cbfc866a-d0ae-4e28-8708-f1813578b133"
      },
      "execution_count": null,
      "outputs": [
        {
          "output_type": "stream",
          "name": "stdout",
          "text": [
            "1/1 [==============================] - 0s 150ms/step\n",
            "Previsão: [0.44678235]\n",
            "Valor real: False\n",
            "Previsão: [0.4370451]\n",
            "Valor real: False\n",
            "Previsão: [0.4270441]\n",
            "Valor real: False\n",
            "Previsão: [0.44246066]\n",
            "Valor real: False\n",
            "Previsão: [0.3962567]\n",
            "Valor real: False\n",
            "Previsão: [0.42280313]\n",
            "Valor real: False\n",
            "Previsão: [0.41427723]\n",
            "Valor real: False\n",
            "Previsão: [0.4051451]\n",
            "Valor real: False\n"
          ]
        }
      ]
    },
    {
      "cell_type": "code",
      "source": [
        "import matplotlib.pyplot as plt\n",
        "\n",
        "# Exibir algumas previsões e seus valores reais\n",
        "num_samples = min(10, len(predictions))\n",
        "plt.figure(figsize=(10, 6))\n",
        "plt.plot(range(num_samples), predictions[:num_samples], label='Previsões', marker='o')\n",
        "plt.plot(range(num_samples), y_test.iloc[:num_samples], label='Valores reais', marker='x')\n",
        "plt.title('Previsões vs Valores reais')\n",
        "plt.xlabel('Amostras')\n",
        "plt.ylabel('Valor')\n",
        "plt.legend()\n",
        "plt.grid(True)\n",
        "plt.show()\n"
      ],
      "metadata": {
        "id": "OelsZkWNGXyV",
        "outputId": "55d14ecc-0a16-428a-e3da-df8523834edc",
        "colab": {
          "base_uri": "https://localhost:8080/",
          "height": 564
        }
      },
      "execution_count": null,
      "outputs": [
        {
          "output_type": "display_data",
          "data": {
            "text/plain": [
              "<Figure size 1000x600 with 1 Axes>"
            ],
            "image/png": "[encoded data removed]"
          },
          "metadata": {}
        }
      ]
    },
    {
      "cell_type": "code",
      "source": [
        "import matplotlib.pyplot as plt\n",
        "\n",
        "# Gerar previsões\n",
        "predictions = model.predict(X_test)\n",
        "\n",
        "# Exibir algumas previsões e seus valores reais\n",
        "num_samples = min(10, len(predictions))\n",
        "plt.figure(figsize=(10, 6))\n",
        "plt.plot(range(num_samples), predictions[:num_samples], label='Previsões', marker='o')\n",
        "plt.plot(range(num_samples), y_test.iloc[:num_samples], label='Valores reais', marker='x')\n",
        "plt.title('Previsões vs Valores reais')\n",
        "plt.xlabel('Amostras')\n",
        "plt.ylabel('Valor')\n",
        "plt.legend()\n",
        "plt.grid(True)\n",
        "plt.show()\n"
      ],
      "metadata": {
        "id": "a17k48Ic1WL6",
        "outputId": "a7b8a7fc-9aaf-412e-ad3d-8ccebfc42082",
        "colab": {
          "base_uri": "https://localhost:8080/",
          "height": 581
        }
      },
      "execution_count": null,
      "outputs": [
        {
          "output_type": "stream",
          "name": "stdout",
          "text": [
            "1/1 [==============================] - 0s 59ms/step\n"
          ]
        },
        {
          "output_type": "display_data",
          "data": {
            "text/plain": [
              "<Figure size 1000x600 with 1 Axes>"
            ],
            "image/png": "[encoded data removed]"
          },
          "metadata": {}
        }
      ]
    },
    {
      "cell_type": "code",
      "source": [
        "from tensorflow.keras.utils import plot_model\n",
        "\n",
        "# Visualizar a arquitetura da rede neural\n",
        "plot_model(model, to_file='model_plot.png', show_shapes=True, show_layer_names=True)\n"
      ],
      "metadata": {
        "id": "mj--Ngyn15n9",
        "outputId": "486bf4cf-f70b-4264-b84c-5c4274202c81",
        "colab": {
          "base_uri": "https://localhost:8080/",
          "height": 422
        }
      },
      "execution_count": null,
      "outputs": [
        {
          "output_type": "execute_result",
          "data": {
            "image/png": "[encoded data removed]",
            "text/plain": [
              "<IPython.core.display.Image object>"
            ]
          },
          "metadata": {},
          "execution_count": 8
        }
      ]
    },
    {
      "cell_type": "code",
      "source": [
        "!apt-get install openjdk-8-jdk-headless -qq > /dev/null"
      ],
      "metadata": {
        "id": "VYPmPfpmbCAq"
      },
      "execution_count": null,
      "outputs": []
    },
    {
      "cell_type": "code",
      "source": [
        "!wget https://archive.apache.org/dist/spark/spark-3.1.2/spark-3.1.2-bin-hadoop3.2.tgz\n",
        "!tar -xf spark-3.1.2-bin-hadoop3.2.tgz"
      ],
      "metadata": {
        "id": "EQ4cUVvHbY80",
        "outputId": "368f0276-e2aa-4a2a-b4e9-e706fb8d2e05",
        "colab": {
          "base_uri": "https://localhost:8080/"
        }
      },
      "execution_count": null,
      "outputs": [
        {
          "output_type": "stream",
          "name": "stdout",
          "text": [
            "--2024-05-07 14:20:44--  https://archive.apache.org/dist/spark/spark-3.1.2/spark-3.1.2-bin-hadoop3.2.tgz\n",
            "Resolving archive.apache.org (archive.apache.org)... 65.108.204.189, 2a01:4f9:1a:a084::2\n",
            "Connecting to archive.apache.org (archive.apache.org)|65.108.204.189|:443... connected.\n",
            "HTTP request sent, awaiting response... 200 OK\n",
            "Length: 228834641 (218M) [application/x-gzip]\n",
            "Saving to: ‘spark-3.1.2-bin-hadoop3.2.tgz’\n",
            "\n",
            "spark-3.1.2-bin-had 100%[===================>] 218.23M   838KB/s    in 3m 43s  \n",
            "\n",
            "2024-05-07 14:24:27 (1003 KB/s) - ‘spark-3.1.2-bin-hadoop3.2.tgz’ saved [228834641/228834641]\n",
            "\n"
          ]
        }
      ]
    },
    {
      "cell_type": "code",
      "source": [
        "import os\n",
        "\n",
        "os.environ['JAVA_HOME'] = '/usr/lib/jvm/java-8-openjdk-amd64'\n",
        "os.environ['SPARK_HOME'] = '/content/spark-3.1.2-bin-hadoop3.2'"
      ],
      "metadata": {
        "id": "2_BGTC5icn59"
      },
      "execution_count": null,
      "outputs": []
    },
    {
      "cell_type": "code",
      "source": [
        "!pip install findspark\n",
        "\n",
        "import findspark\n",
        "findspark.init('/content/spark-3.1.2-bin-hadoop3.2')"
      ],
      "metadata": {
        "id": "vhSi719mcuuK",
        "outputId": "6bb894c0-aa29-481d-a363-40dc4369f2b5",
        "colab": {
          "base_uri": "https://localhost:8080/"
        }
      },
      "execution_count": null,
      "outputs": [
        {
          "output_type": "stream",
          "name": "stdout",
          "text": [
            "Collecting findspark\n",
            "  Downloading findspark-2.0.1-py2.py3-none-any.whl (4.4 kB)\n",
            "Installing collected packages: findspark\n",
            "Successfully installed findspark-2.0.1\n"
          ]
        }
      ]
    },
    {
      "cell_type": "code",
      "source": [
        "import pyspark.sql as spark\n",
        "\n",
        "spark = spark.SparkSession.builder.appName(\"TesteSpark\").getOrCreate()"
      ],
      "metadata": {
        "id": "eASGbrUAc1V3",
        "outputId": "d080c3d0-8b93-4613-8cb4-4dabcddabaa5",
        "colab": {
          "base_uri": "https://localhost:8080/"
        }
      },
      "execution_count": null,
      "outputs": [
        {
          "output_type": "stream",
          "name": "stderr",
          "text": [
            "/usr/lib/python3.10/subprocess.py:1796: RuntimeWarning: os.fork() was called. os.fork() is incompatible with multithreaded code, and JAX is multithreaded, so this will likely lead to a deadlock.\n",
            "  self.pid = _posixsubprocess.fork_exec(\n"
          ]
        }
      ]
    },
    {
      "cell_type": "code",
      "source": [
        "from pyspark.sql import SparkSession\n",
        "spark = SparkSession.builder.master('local[*]').getOrCreate()"
      ],
      "metadata": {
        "id": "GGgXycCgdHfT"
      },
      "execution_count": null,
      "outputs": []
    },
    {
      "cell_type": "code",
      "source": [
        "dataset = spark.read.csv('/content/dados_codificados.csv',inferSchema=True, header = True)"
      ],
      "metadata": {
        "id": "DL4gS9gsdOua"
      },
      "execution_count": null,
      "outputs": []
    },
    {
      "cell_type": "code",
      "source": [
        "dataset.printSchema()"
      ],
      "metadata": {
        "id": "o-LhEhKBdd0_",
        "outputId": "a6b61c73-7a61-4e12-a2b3-ecb6a39678a0",
        "colab": {
          "base_uri": "https://localhost:8080/"
        }
      },
      "execution_count": null,
      "outputs": [
        {
          "output_type": "stream",
          "name": "stdout",
          "text": [
            "root\n",
            " |-- texto_Administração: boolean (nullable = true)\n",
            " |-- texto_Advogado: boolean (nullable = true)\n",
            " |-- texto_Analista Financeiro: boolean (nullable = true)\n",
            " |-- texto_Artes, Arquitetura e Design: boolean (nullable = true)\n",
            " |-- texto_Assistente Administrativo: boolean (nullable = true)\n",
            " |-- texto_Atendente: boolean (nullable = true)\n",
            " |-- texto_Auxiliar Administrativo: boolean (nullable = true)\n",
            " |-- texto_Auxiliar de Produção: boolean (nullable = true)\n",
            " |-- texto_Campinas: boolean (nullable = true)\n",
            " |-- texto_Comercial e Vendas: boolean (nullable = true)\n",
            " |-- texto_Curitiba: boolean (nullable = true)\n",
            " |-- texto_Educação: boolean (nullable = true)\n",
            " |-- texto_Enfermeiro: boolean (nullable = true)\n",
            " |-- texto_Engenharia: boolean (nullable = true)\n",
            " |-- texto_Engenheiro Civil: boolean (nullable = true)\n",
            " |-- texto_Financeira: boolean (nullable = true)\n",
            " |-- texto_Florianópolis: boolean (nullable = true)\n",
            " |-- texto_Fortaleza: boolean (nullable = true)\n",
            " |-- texto_Goiânia: boolean (nullable = true)\n",
            " |-- texto_Industrial: boolean (nullable = true)\n",
            " |-- texto_Informática: boolean (nullable = true)\n",
            " |-- texto_Jurídica: boolean (nullable = true)\n",
            " |-- texto_Londrina: boolean (nullable = true)\n",
            " |-- texto_Maringá: boolean (nullable = true)\n",
            " |-- texto_Operador de Caixa: boolean (nullable = true)\n",
            " |-- texto_Porto Alegre: boolean (nullable = true)\n",
            " |-- texto_Programador: boolean (nullable = true)\n",
            " |-- texto_Recepcionista: boolean (nullable = true)\n",
            " |-- texto_Rio de Janeiro: boolean (nullable = true)\n",
            " |-- texto_Saúde: boolean (nullable = true)\n",
            " |-- texto_Sorocaba: boolean (nullable = true)\n",
            " |-- texto_Suprimentos: boolean (nullable = true)\n",
            " |-- texto_São Paulo: boolean (nullable = true)\n",
            " |-- texto_Telemarketing: boolean (nullable = true)\n",
            " |-- texto_Uberlândia: boolean (nullable = true)\n",
            " |-- texto_Vagas de Home Office: boolean (nullable = true)\n",
            " |-- texto_Vendedor: boolean (nullable = true)\n",
            "\n"
          ]
        }
      ]
    }
  ]
}